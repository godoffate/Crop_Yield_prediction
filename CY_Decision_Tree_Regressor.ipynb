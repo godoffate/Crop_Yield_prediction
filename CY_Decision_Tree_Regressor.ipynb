{
 "cells": [
  {
   "cell_type": "code",
   "execution_count": 1,
   "id": "c8d35182-0256-4375-8996-93c84f91eac0",
   "metadata": {},
   "outputs": [],
   "source": [
    "import numpy as np\n",
    "import pandas as pd\n",
    "import matplotlib.pyplot as plt\n",
    "import seaborn as sns\n",
    "import klib\n",
    "from sklearn.preprocessing import StandardScaler\n",
    "from sklearn.tree import DecisionTreeRegressor\n",
    "from sklearn.ensemble import ExtraTreesRegressor\n",
    "from sklearn.model_selection import train_test_split, RandomizedSearchCV\n",
    "from sklearn.metrics import r2_score, mean_squared_error, mean_absolute_error"
   ]
  },
  {
   "cell_type": "code",
   "execution_count": 2,
   "id": "3549ff4a-c4e0-4a15-a560-b5e5ecaf00db",
   "metadata": {},
   "outputs": [
    {
     "data": {
      "text/html": [
       "<div>\n",
       "<style scoped>\n",
       "    .dataframe tbody tr th:only-of-type {\n",
       "        vertical-align: middle;\n",
       "    }\n",
       "\n",
       "    .dataframe tbody tr th {\n",
       "        vertical-align: top;\n",
       "    }\n",
       "\n",
       "    .dataframe thead th {\n",
       "        text-align: right;\n",
       "    }\n",
       "</style>\n",
       "<table border=\"1\" class=\"dataframe\">\n",
       "  <thead>\n",
       "    <tr style=\"text-align: right;\">\n",
       "      <th></th>\n",
       "      <th>Rain Fall (mm)</th>\n",
       "      <th>Fertilizer(urea) (kg/acre)</th>\n",
       "      <th>Temperature (°C)</th>\n",
       "      <th>Nitrogen (N)</th>\n",
       "      <th>Phosphorus (P)</th>\n",
       "      <th>Potassium (K)</th>\n",
       "      <th>Yeild (Q/acre)</th>\n",
       "    </tr>\n",
       "  </thead>\n",
       "  <tbody>\n",
       "    <tr>\n",
       "      <th>0</th>\n",
       "      <td>1230.0</td>\n",
       "      <td>80.0</td>\n",
       "      <td>28.0</td>\n",
       "      <td>80.0</td>\n",
       "      <td>24.0</td>\n",
       "      <td>20.0</td>\n",
       "      <td>12.0</td>\n",
       "    </tr>\n",
       "    <tr>\n",
       "      <th>1</th>\n",
       "      <td>480.0</td>\n",
       "      <td>60.0</td>\n",
       "      <td>36.0</td>\n",
       "      <td>70.0</td>\n",
       "      <td>20.0</td>\n",
       "      <td>18.0</td>\n",
       "      <td>8.0</td>\n",
       "    </tr>\n",
       "    <tr>\n",
       "      <th>2</th>\n",
       "      <td>1250.0</td>\n",
       "      <td>75.0</td>\n",
       "      <td>29.0</td>\n",
       "      <td>78.0</td>\n",
       "      <td>22.0</td>\n",
       "      <td>19.0</td>\n",
       "      <td>11.0</td>\n",
       "    </tr>\n",
       "    <tr>\n",
       "      <th>3</th>\n",
       "      <td>450.0</td>\n",
       "      <td>65.0</td>\n",
       "      <td>35.0</td>\n",
       "      <td>70.0</td>\n",
       "      <td>19.0</td>\n",
       "      <td>18.0</td>\n",
       "      <td>9.0</td>\n",
       "    </tr>\n",
       "    <tr>\n",
       "      <th>4</th>\n",
       "      <td>1200.0</td>\n",
       "      <td>80.0</td>\n",
       "      <td>27.0</td>\n",
       "      <td>79.0</td>\n",
       "      <td>22.0</td>\n",
       "      <td>19.0</td>\n",
       "      <td>11.0</td>\n",
       "    </tr>\n",
       "    <tr>\n",
       "      <th>...</th>\n",
       "      <td>...</td>\n",
       "      <td>...</td>\n",
       "      <td>...</td>\n",
       "      <td>...</td>\n",
       "      <td>...</td>\n",
       "      <td>...</td>\n",
       "      <td>...</td>\n",
       "    </tr>\n",
       "    <tr>\n",
       "      <th>94</th>\n",
       "      <td>1250.0</td>\n",
       "      <td>77.0</td>\n",
       "      <td>28.0</td>\n",
       "      <td>78.0</td>\n",
       "      <td>23.0</td>\n",
       "      <td>20.0</td>\n",
       "      <td>9.0</td>\n",
       "    </tr>\n",
       "    <tr>\n",
       "      <th>95</th>\n",
       "      <td>425.0</td>\n",
       "      <td>60.0</td>\n",
       "      <td>39.0</td>\n",
       "      <td>65.0</td>\n",
       "      <td>19.0</td>\n",
       "      <td>17.0</td>\n",
       "      <td>6.5</td>\n",
       "    </tr>\n",
       "    <tr>\n",
       "      <th>96</th>\n",
       "      <td>1220.0</td>\n",
       "      <td>79.0</td>\n",
       "      <td>28.0</td>\n",
       "      <td>77.0</td>\n",
       "      <td>23.0</td>\n",
       "      <td>21.0</td>\n",
       "      <td>10.5</td>\n",
       "    </tr>\n",
       "    <tr>\n",
       "      <th>97</th>\n",
       "      <td>480.0</td>\n",
       "      <td>65.0</td>\n",
       "      <td>36.0</td>\n",
       "      <td>68.0</td>\n",
       "      <td>21.0</td>\n",
       "      <td>16.0</td>\n",
       "      <td>7.0</td>\n",
       "    </tr>\n",
       "    <tr>\n",
       "      <th>98</th>\n",
       "      <td>1230.0</td>\n",
       "      <td>80.0</td>\n",
       "      <td>28.0</td>\n",
       "      <td>80.0</td>\n",
       "      <td>24.0</td>\n",
       "      <td>20.0</td>\n",
       "      <td>12.0</td>\n",
       "    </tr>\n",
       "  </tbody>\n",
       "</table>\n",
       "<p>99 rows × 7 columns</p>\n",
       "</div>"
      ],
      "text/plain": [
       "    Rain Fall (mm)  Fertilizer(urea) (kg/acre)  Temperature (°C)  \\\n",
       "0           1230.0                        80.0              28.0   \n",
       "1            480.0                        60.0              36.0   \n",
       "2           1250.0                        75.0              29.0   \n",
       "3            450.0                        65.0              35.0   \n",
       "4           1200.0                        80.0              27.0   \n",
       "..             ...                         ...               ...   \n",
       "94          1250.0                        77.0              28.0   \n",
       "95           425.0                        60.0              39.0   \n",
       "96          1220.0                        79.0              28.0   \n",
       "97           480.0                        65.0              36.0   \n",
       "98          1230.0                        80.0              28.0   \n",
       "\n",
       "    Nitrogen (N)  Phosphorus (P)  Potassium (K)  Yeild (Q/acre)  \n",
       "0           80.0            24.0           20.0            12.0  \n",
       "1           70.0            20.0           18.0             8.0  \n",
       "2           78.0            22.0           19.0            11.0  \n",
       "3           70.0            19.0           18.0             9.0  \n",
       "4           79.0            22.0           19.0            11.0  \n",
       "..           ...             ...            ...             ...  \n",
       "94          78.0            23.0           20.0             9.0  \n",
       "95          65.0            19.0           17.0             6.5  \n",
       "96          77.0            23.0           21.0            10.5  \n",
       "97          68.0            21.0           16.0             7.0  \n",
       "98          80.0            24.0           20.0            12.0  \n",
       "\n",
       "[99 rows x 7 columns]"
      ]
     },
     "execution_count": 2,
     "metadata": {},
     "output_type": "execute_result"
    }
   ],
   "source": [
    "d = pd.read_csv(\"crop_yield.csv\")\n",
    "d"
   ]
  },
  {
   "cell_type": "markdown",
   "id": "e5e03d80-3f85-4708-bd6c-52497b8f793d",
   "metadata": {},
   "source": [
    "**PREPROCESSING**"
   ]
  },
  {
   "cell_type": "code",
   "execution_count": 3,
   "id": "1cf15da2-a772-4999-83b2-a44a6dd6138c",
   "metadata": {},
   "outputs": [
    {
     "data": {
      "text/html": [
       "<div>\n",
       "<style scoped>\n",
       "    .dataframe tbody tr th:only-of-type {\n",
       "        vertical-align: middle;\n",
       "    }\n",
       "\n",
       "    .dataframe tbody tr th {\n",
       "        vertical-align: top;\n",
       "    }\n",
       "\n",
       "    .dataframe thead th {\n",
       "        text-align: right;\n",
       "    }\n",
       "</style>\n",
       "<table border=\"1\" class=\"dataframe\">\n",
       "  <thead>\n",
       "    <tr style=\"text-align: right;\">\n",
       "      <th></th>\n",
       "      <th>Rain Fall (mm)</th>\n",
       "      <th>Fertilizer(urea) (kg/acre)</th>\n",
       "      <th>Temperature (°C)</th>\n",
       "      <th>Nitrogen (N)</th>\n",
       "      <th>Phosphorus (P)</th>\n",
       "    </tr>\n",
       "  </thead>\n",
       "  <tbody>\n",
       "    <tr>\n",
       "      <th>0</th>\n",
       "      <td>1230.0</td>\n",
       "      <td>80.0</td>\n",
       "      <td>28.0</td>\n",
       "      <td>80.0</td>\n",
       "      <td>24.0</td>\n",
       "    </tr>\n",
       "    <tr>\n",
       "      <th>1</th>\n",
       "      <td>480.0</td>\n",
       "      <td>60.0</td>\n",
       "      <td>36.0</td>\n",
       "      <td>70.0</td>\n",
       "      <td>20.0</td>\n",
       "    </tr>\n",
       "    <tr>\n",
       "      <th>2</th>\n",
       "      <td>1250.0</td>\n",
       "      <td>75.0</td>\n",
       "      <td>29.0</td>\n",
       "      <td>78.0</td>\n",
       "      <td>22.0</td>\n",
       "    </tr>\n",
       "    <tr>\n",
       "      <th>3</th>\n",
       "      <td>450.0</td>\n",
       "      <td>65.0</td>\n",
       "      <td>35.0</td>\n",
       "      <td>70.0</td>\n",
       "      <td>19.0</td>\n",
       "    </tr>\n",
       "    <tr>\n",
       "      <th>4</th>\n",
       "      <td>1200.0</td>\n",
       "      <td>80.0</td>\n",
       "      <td>27.0</td>\n",
       "      <td>79.0</td>\n",
       "      <td>22.0</td>\n",
       "    </tr>\n",
       "    <tr>\n",
       "      <th>...</th>\n",
       "      <td>...</td>\n",
       "      <td>...</td>\n",
       "      <td>...</td>\n",
       "      <td>...</td>\n",
       "      <td>...</td>\n",
       "    </tr>\n",
       "    <tr>\n",
       "      <th>94</th>\n",
       "      <td>1250.0</td>\n",
       "      <td>77.0</td>\n",
       "      <td>28.0</td>\n",
       "      <td>78.0</td>\n",
       "      <td>23.0</td>\n",
       "    </tr>\n",
       "    <tr>\n",
       "      <th>95</th>\n",
       "      <td>425.0</td>\n",
       "      <td>60.0</td>\n",
       "      <td>39.0</td>\n",
       "      <td>65.0</td>\n",
       "      <td>19.0</td>\n",
       "    </tr>\n",
       "    <tr>\n",
       "      <th>96</th>\n",
       "      <td>1220.0</td>\n",
       "      <td>79.0</td>\n",
       "      <td>28.0</td>\n",
       "      <td>77.0</td>\n",
       "      <td>23.0</td>\n",
       "    </tr>\n",
       "    <tr>\n",
       "      <th>97</th>\n",
       "      <td>480.0</td>\n",
       "      <td>65.0</td>\n",
       "      <td>36.0</td>\n",
       "      <td>68.0</td>\n",
       "      <td>21.0</td>\n",
       "    </tr>\n",
       "    <tr>\n",
       "      <th>98</th>\n",
       "      <td>1230.0</td>\n",
       "      <td>80.0</td>\n",
       "      <td>28.0</td>\n",
       "      <td>80.0</td>\n",
       "      <td>24.0</td>\n",
       "    </tr>\n",
       "  </tbody>\n",
       "</table>\n",
       "<p>99 rows × 5 columns</p>\n",
       "</div>"
      ],
      "text/plain": [
       "    Rain Fall (mm)  Fertilizer(urea) (kg/acre)  Temperature (°C)  \\\n",
       "0           1230.0                        80.0              28.0   \n",
       "1            480.0                        60.0              36.0   \n",
       "2           1250.0                        75.0              29.0   \n",
       "3            450.0                        65.0              35.0   \n",
       "4           1200.0                        80.0              27.0   \n",
       "..             ...                         ...               ...   \n",
       "94          1250.0                        77.0              28.0   \n",
       "95           425.0                        60.0              39.0   \n",
       "96          1220.0                        79.0              28.0   \n",
       "97           480.0                        65.0              36.0   \n",
       "98          1230.0                        80.0              28.0   \n",
       "\n",
       "    Nitrogen (N)  Phosphorus (P)  \n",
       "0           80.0            24.0  \n",
       "1           70.0            20.0  \n",
       "2           78.0            22.0  \n",
       "3           70.0            19.0  \n",
       "4           79.0            22.0  \n",
       "..           ...             ...  \n",
       "94          78.0            23.0  \n",
       "95          65.0            19.0  \n",
       "96          77.0            23.0  \n",
       "97          68.0            21.0  \n",
       "98          80.0            24.0  \n",
       "\n",
       "[99 rows x 5 columns]"
      ]
     },
     "execution_count": 3,
     "metadata": {},
     "output_type": "execute_result"
    }
   ],
   "source": [
    "x = d.iloc[:,:5]\n",
    "x"
   ]
  },
  {
   "cell_type": "code",
   "execution_count": 4,
   "id": "829d1358-e8fd-40e4-98b2-4aa033c9a4cd",
   "metadata": {},
   "outputs": [
    {
     "data": {
      "text/plain": [
       "0     12.0\n",
       "1      8.0\n",
       "2     11.0\n",
       "3      9.0\n",
       "4     11.0\n",
       "      ... \n",
       "94     9.0\n",
       "95     6.5\n",
       "96    10.5\n",
       "97     7.0\n",
       "98    12.0\n",
       "Name: Yeild (Q/acre), Length: 99, dtype: float64"
      ]
     },
     "execution_count": 4,
     "metadata": {},
     "output_type": "execute_result"
    }
   ],
   "source": [
    "y = d.iloc[:,6]\n",
    "y"
   ]
  },
  {
   "cell_type": "markdown",
   "id": "51f9e86d-6118-4300-a391-4b845c1e09fc",
   "metadata": {},
   "source": [
    "**FEATURE SELECTION (FEATURE IMPORTANCE)**"
   ]
  },
  {
   "cell_type": "code",
   "execution_count": 5,
   "id": "360bb886-9169-4ba7-a086-65a0b46cdad5",
   "metadata": {},
   "outputs": [],
   "source": [
    "model_fs = ExtraTreesRegressor()"
   ]
  },
  {
   "cell_type": "code",
   "execution_count": 6,
   "id": "e0461efc-1b31-40df-b125-fa9112f647c5",
   "metadata": {},
   "outputs": [],
   "source": [
    "fs = model_fs.fit(x,y)"
   ]
  },
  {
   "cell_type": "code",
   "execution_count": 7,
   "id": "92ad742b-5462-4c36-89b8-2282615f5056",
   "metadata": {},
   "outputs": [
    {
     "data": {
      "text/plain": [
       "array([0.42346184, 0.07676382, 0.36418754, 0.0920474 , 0.0435394 ])"
      ]
     },
     "execution_count": 7,
     "metadata": {},
     "output_type": "execute_result"
    }
   ],
   "source": [
    "fs.feature_importances_"
   ]
  },
  {
   "cell_type": "code",
   "execution_count": 8,
   "id": "6a39c5dc-aa2c-4b91-9fd3-4d631e488c18",
   "metadata": {},
   "outputs": [
    {
     "data": {
      "text/plain": [
       "<Axes: >"
      ]
     },
     "execution_count": 8,
     "metadata": {},
     "output_type": "execute_result"
    },
    {
     "data": {
      "image/png": "[encoded data removed]",
      "text/plain": [
       "<Figure size 640x480 with 1 Axes>"
      ]
     },
     "metadata": {},
     "output_type": "display_data"
    }
   ],
   "source": [
    "imp = pd.Series(fs.feature_importances_,index=x.columns)\n",
    "imp.nlargest(5).plot(kind=\"barh\")"
   ]
  },
  {
   "cell_type": "markdown",
   "id": "6e56313c-72d6-4b28-b5cb-ad45a022980b",
   "metadata": {},
   "source": [
    "*FEATURE SCALING - no need for tree based algorithm*"
   ]
  },
  {
   "cell_type": "markdown",
   "id": "c8f4be3b-c093-42dc-876a-68e8fa8cc543",
   "metadata": {},
   "source": [
    "**SPLITTING THE DATA**"
   ]
  },
  {
   "cell_type": "code",
   "execution_count": 9,
   "id": "9d35bf34-dfb7-4823-a055-b822d47ffbee",
   "metadata": {},
   "outputs": [],
   "source": [
    "x = x.to_numpy()\n",
    "y = y.to_numpy()"
   ]
  },
  {
   "cell_type": "code",
   "execution_count": 10,
   "id": "f1142530-e702-486c-b997-5ba969b03140",
   "metadata": {},
   "outputs": [
    {
     "data": {
      "text/plain": [
       "array([12. ,  8. , 11. ,  9. , 11. , 10. , 11. ,  7. , 12. ,  6. , 12. ,\n",
       "        8. , 11. ,  9. , 11. ,  5.5, 12. ,  7. , 11. , 12. ,  6. , 11. ,\n",
       "        7. , 10. ,  9. , 10. ,  6. , 12. ,  7. , 10. , 11. ,  6. , 11. ,\n",
       "        7. , 10. ,  9. , 10. ,  6. , 12. ,  8. , 11. ,  7. , 11. ,  6. ,\n",
       "       11. ,  7. , 11. ,  8. , 10. ,  6. , 11. ,  6. , 11. ,  6.5, 10. ,\n",
       "        7.5, 11. ,  9. , 10. ,  7. , 11. ,  6.5, 11. ,  7. , 11. ,  7. ,\n",
       "       11. ,  7. , 10. ,  8.5,  9.5,  7.5, 10.5,  7. , 10. ,  7.5, 12. ,\n",
       "        6. , 10. ,  7.5,  9.5,  8. ,  9.5,  8.5,  9. ,  8. , 10. ,  8. ,\n",
       "       11. ,  6.5, 11. ,  7. ,  9. ,  8. ,  9. ,  6.5, 10.5,  7. , 12. ])"
      ]
     },
     "execution_count": 10,
     "metadata": {},
     "output_type": "execute_result"
    }
   ],
   "source": [
    "y"
   ]
  },
  {
   "cell_type": "code",
   "execution_count": 11,
   "id": "79799f82-d6df-4cd2-8e92-62009b0e6a41",
   "metadata": {},
   "outputs": [
    {
     "data": {
      "text/plain": [
       "array([[1230.,   80.,   28.,   80.,   24.],\n",
       "       [ 480.,   60.,   36.,   70.,   20.],\n",
       "       [1250.,   75.,   29.,   78.,   22.],\n",
       "       [ 450.,   65.,   35.,   70.,   19.],\n",
       "       [1200.,   80.,   27.,   79.,   22.],\n",
       "       [ 500.,   70.,   34.,   74.,   22.],\n",
       "       [1275.,   71.,   28.,   77.,   21.],\n",
       "       [ 425.,   65.,   37.,   67.,   18.],\n",
       "       [1200.,   77.,   27.,   78.,   23.],\n",
       "       [ 400.,   50.,   39.,   60.,   18.],\n",
       "       [1280.,   80.,   26.,   80.,   24.],\n",
       "       [ 415.,   55.,   38.,   65.,   19.],\n",
       "       [1225.,   79.,   29.,   79.,   23.],\n",
       "       [ 425.,   50.,   37.,   65.,   18.],\n",
       "       [1250.,   70.,   24.,   70.,   22.],\n",
       "       [ 400.,   60.,   39.,   60.,   18.],\n",
       "       [1300.,   80.,   28.,   80.,   24.],\n",
       "       [ 410.,   55.,   36.,   65.,   21.],\n",
       "       [1150.,   77.,   28.,   76.,   23.],\n",
       "       [1200.,   78.,   27.,   78.,   23.],\n",
       "       [ 410.,   50.,   37.,   59.,   19.],\n",
       "       [1280.,   76.,   26.,   75.,   24.],\n",
       "       [ 425.,   55.,   38.,   65.,   19.],\n",
       "       [1225.,   73.,   29.,   73.,   23.],\n",
       "       [ 450.,   50.,   37.,   65.,   18.],\n",
       "       [1250.,   70.,   24.,   70.,   22.],\n",
       "       [ 400.,   60.,   39.,   60.,   18.],\n",
       "       [1250.,   80.,   28.,   80.,   24.],\n",
       "       [ 405.,   55.,   36.,   60.,   21.],\n",
       "       [1200.,   72.,   29.,   73.,   21.],\n",
       "       [1150.,   80.,   26.,   75.,   21.],\n",
       "       [ 475.,   55.,   39.,   61.,   18.],\n",
       "       [1275.,   76.,   26.,   75.,   24.],\n",
       "       [ 450.,   55.,   38.,   65.,   19.],\n",
       "       [1200.,   73.,   29.,   73.,   23.],\n",
       "       [ 500.,   50.,   37.,   65.,   18.],\n",
       "       [1300.,   70.,   24.,   70.,   22.],\n",
       "       [ 425.,   60.,   39.,   60.,   18.],\n",
       "       [1250.,   75.,   26.,   75.,   22.],\n",
       "       [ 440.,   58.,   37.,   66.,   22.],\n",
       "       [1275.,   78.,   28.,   77.,   23.],\n",
       "       [ 405.,   55.,   36.,   60.,   21.],\n",
       "       [1175.,   78.,   28.,   75.,   23.],\n",
       "       [ 410.,   60.,   39.,   65.,   18.],\n",
       "       [1250.,   80.,   26.,   78.,   23.],\n",
       "       [ 460.,   55.,   38.,   61.,   20.],\n",
       "       [1275.,   76.,   26.,   75.,   24.],\n",
       "       [ 445.,   60.,   38.,   68.,   22.],\n",
       "       [1220.,   77.,   29.,   75.,   22.],\n",
       "       [ 450.,   50.,   37.,   60.,   18.],\n",
       "       [1225.,   79.,   24.,   79.,   22.],\n",
       "       [ 430.,   65.,   39.,   65.,   19.],\n",
       "       [1275.,   77.,   27.,   78.,   21.],\n",
       "       [ 400.,   52.,   38.,   64.,   19.],\n",
       "       [1245.,   78.,   27.,   78.,   22.],\n",
       "       [ 455.,   58.,   37.,   61.,   21.],\n",
       "       [1280.,   73.,   28.,   75.,   24.],\n",
       "       [ 475.,   62.,   37.,   68.,   22.],\n",
       "       [1300.,   79.,   28.,   77.,   23.],\n",
       "       [ 425.,   55.,   36.,   65.,   19.],\n",
       "       [1175.,   77.,   25.,   75.,   22.],\n",
       "       [ 425.,   70.,   39.,   70.,   20.],\n",
       "       [1200.,   75.,   27.,   79.,   21.],\n",
       "       [ 450.,   56.,   40.,   67.,   18.],\n",
       "       [1200.,   75.,   27.,   76.,   21.],\n",
       "       [ 410.,   55.,   38.,   68.,   20.],\n",
       "       [1250.,   75.,   27.,   75.,   23.],\n",
       "       [ 475.,   60.,   37.,   63.,   20.],\n",
       "       [1225.,   75.,   29.,   77.,   23.],\n",
       "       [ 455.,   60.,   38.,   65.,   20.],\n",
       "       [1245.,   77.,   27.,   75.,   22.],\n",
       "       [ 450.,   59.,   40.,   67.,   18.],\n",
       "       [1200.,   79.,   27.,   77.,   23.],\n",
       "       [ 475.,   72.,   36.,   71.,   21.],\n",
       "       [1275.,   77.,   28.,   76.,   22.],\n",
       "       [ 475.,   58.,   39.,   68.,   19.],\n",
       "       [1300.,   80.,   28.,   80.,   24.],\n",
       "       [ 400.,   50.,   40.,   60.,   18.],\n",
       "       [1175.,   70.,   28.,   70.,   22.],\n",
       "       [ 445.,   65.,   39.,   65.,   21.],\n",
       "       [1200.,   77.,   29.,   76.,   22.],\n",
       "       [ 450.,   65.,   38.,   60.,   20.],\n",
       "       [1225.,   75.,   28.,   79.,   21.],\n",
       "       [ 450.,   65.,   39.,   70.,   20.],\n",
       "       [1300.,   76.,   28.,   77.,   22.],\n",
       "       [ 450.,   70.,   36.,   72.,   25.],\n",
       "       [1250.,   77.,   28.,   76.,   22.],\n",
       "       [ 475.,   60.,   39.,   70.,   20.],\n",
       "       [1200.,   75.,   28.,   77.,   23.],\n",
       "       [ 410.,   52.,   40.,   62.,   19.],\n",
       "       [1225.,   75.,   28.,   75.,   23.],\n",
       "       [ 460.,   60.,   39.,   60.,   20.],\n",
       "       [1150.,   78.,   29.,   77.,   21.],\n",
       "       [ 475.,   65.,   38.,   60.,   20.],\n",
       "       [1250.,   77.,   28.,   78.,   23.],\n",
       "       [ 425.,   60.,   39.,   65.,   19.],\n",
       "       [1220.,   79.,   28.,   77.,   23.],\n",
       "       [ 480.,   65.,   36.,   68.,   21.],\n",
       "       [1230.,   80.,   28.,   80.,   24.]])"
      ]
     },
     "execution_count": 11,
     "metadata": {},
     "output_type": "execute_result"
    }
   ],
   "source": [
    "x"
   ]
  },
  {
   "cell_type": "code",
   "execution_count": 12,
   "id": "eab1407b-2947-487e-a6bc-9ab96d5262a7",
   "metadata": {},
   "outputs": [],
   "source": [
    "x_train, x_test, y_train, y_test = train_test_split(x,y, test_size=0.2,random_state=42)"
   ]
  },
  {
   "cell_type": "code",
   "execution_count": 13,
   "id": "745e6b8d-04ec-4b7e-b4cb-ce5283050097",
   "metadata": {},
   "outputs": [
    {
     "data": {
      "text/plain": [
       "array([[ 450.,   50.,   37.,   60.,   18.],\n",
       "       [1245.,   77.,   27.,   75.,   22.],\n",
       "       [1225.,   75.,   29.,   77.,   23.],\n",
       "       [ 400.,   60.,   39.,   60.,   18.],\n",
       "       [ 440.,   58.,   37.,   66.,   22.],\n",
       "       [ 450.,   55.,   38.,   65.,   19.],\n",
       "       [ 400.,   50.,   39.,   60.,   18.],\n",
       "       [ 450.,   65.,   38.,   60.,   20.],\n",
       "       [ 415.,   55.,   38.,   65.,   19.],\n",
       "       [ 410.,   55.,   38.,   68.,   20.],\n",
       "       [1250.,   77.,   28.,   78.,   23.],\n",
       "       [1150.,   80.,   26.,   75.,   21.],\n",
       "       [ 405.,   55.,   36.,   60.,   21.],\n",
       "       [ 410.,   52.,   40.,   62.,   19.],\n",
       "       [ 500.,   70.,   34.,   74.,   22.],\n",
       "       [ 460.,   55.,   38.,   61.,   20.],\n",
       "       [ 455.,   60.,   38.,   65.,   20.],\n",
       "       [ 500.,   50.,   37.,   65.,   18.],\n",
       "       [1300.,   80.,   28.,   80.,   24.],\n",
       "       [1200.,   79.,   27.,   77.,   23.],\n",
       "       [1200.,   73.,   29.,   73.,   23.],\n",
       "       [ 425.,   65.,   37.,   67.,   18.],\n",
       "       [ 455.,   58.,   37.,   61.,   21.],\n",
       "       [1250.,   80.,   28.,   80.,   24.],\n",
       "       [1200.,   78.,   27.,   78.,   23.],\n",
       "       [1200.,   77.,   29.,   76.,   22.],\n",
       "       [1250.,   70.,   24.,   70.,   22.],\n",
       "       [ 400.,   52.,   38.,   64.,   19.],\n",
       "       [ 425.,   50.,   37.,   65.,   18.],\n",
       "       [ 450.,   50.,   37.,   65.,   18.],\n",
       "       [ 450.,   65.,   35.,   70.,   19.],\n",
       "       [ 410.,   55.,   36.,   65.,   21.],\n",
       "       [1250.,   75.,   26.,   75.,   22.],\n",
       "       [1200.,   77.,   27.,   78.,   23.],\n",
       "       [ 400.,   50.,   40.,   60.,   18.],\n",
       "       [1275.,   71.,   28.,   77.,   21.],\n",
       "       [ 445.,   65.,   39.,   65.,   21.],\n",
       "       [1300.,   70.,   24.,   70.,   22.],\n",
       "       [ 460.,   60.,   39.,   60.,   20.],\n",
       "       [1280.,   73.,   28.,   75.,   24.],\n",
       "       [1230.,   80.,   28.,   80.,   24.],\n",
       "       [1245.,   78.,   27.,   78.,   22.],\n",
       "       [ 410.,   60.,   39.,   65.,   18.],\n",
       "       [1225.,   79.,   24.,   79.,   22.],\n",
       "       [1250.,   75.,   27.,   75.,   23.],\n",
       "       [1275.,   76.,   26.,   75.,   24.],\n",
       "       [ 475.,   60.,   37.,   63.,   20.],\n",
       "       [ 425.,   70.,   39.,   70.,   20.],\n",
       "       [1220.,   79.,   28.,   77.,   23.],\n",
       "       [1175.,   70.,   28.,   70.,   22.],\n",
       "       [ 405.,   55.,   36.,   60.,   21.],\n",
       "       [1300.,   79.,   28.,   77.,   23.],\n",
       "       [1220.,   77.,   29.,   75.,   22.],\n",
       "       [ 450.,   70.,   36.,   72.,   25.],\n",
       "       [ 475.,   62.,   37.,   68.,   22.],\n",
       "       [ 475.,   58.,   39.,   68.,   19.],\n",
       "       [1275.,   76.,   26.,   75.,   24.],\n",
       "       [ 475.,   65.,   38.,   60.,   20.],\n",
       "       [ 425.,   55.,   36.,   65.,   19.],\n",
       "       [ 450.,   56.,   40.,   67.,   18.],\n",
       "       [ 450.,   65.,   39.,   70.,   20.],\n",
       "       [ 425.,   60.,   39.,   60.,   18.],\n",
       "       [1200.,   72.,   29.,   73.,   21.],\n",
       "       [ 480.,   60.,   36.,   70.,   20.],\n",
       "       [1275.,   77.,   27.,   78.,   21.],\n",
       "       [1280.,   76.,   26.,   75.,   24.],\n",
       "       [1250.,   75.,   29.,   78.,   22.],\n",
       "       [1225.,   73.,   29.,   73.,   23.],\n",
       "       [ 475.,   60.,   39.,   70.,   20.],\n",
       "       [1225.,   75.,   28.,   75.,   23.],\n",
       "       [1275.,   77.,   28.,   76.,   22.],\n",
       "       [1250.,   77.,   28.,   76.,   22.],\n",
       "       [1225.,   75.,   28.,   79.,   21.],\n",
       "       [ 410.,   50.,   37.,   59.,   19.],\n",
       "       [1175.,   77.,   25.,   75.,   22.],\n",
       "       [ 450.,   59.,   40.,   67.,   18.],\n",
       "       [1250.,   70.,   24.,   70.,   22.],\n",
       "       [1150.,   78.,   29.,   77.,   21.],\n",
       "       [ 430.,   65.,   39.,   65.,   19.]])"
      ]
     },
     "execution_count": 13,
     "metadata": {},
     "output_type": "execute_result"
    }
   ],
   "source": [
    "x_train"
   ]
  },
  {
   "cell_type": "code",
   "execution_count": 14,
   "id": "b6dd58d6-346e-407c-823b-a2114397d031",
   "metadata": {},
   "outputs": [
    {
     "data": {
      "text/plain": [
       "array([11. , 11. ,  6.5, 11. ,  7. ,  9. , 11. , 11. , 12. , 12. ,  6. ,\n",
       "       12. ,  8. ,  6. , 11. , 11. ,  7. , 11. , 11. ,  7. ])"
      ]
     },
     "execution_count": 14,
     "metadata": {},
     "output_type": "execute_result"
    }
   ],
   "source": [
    "y_test"
   ]
  },
  {
   "cell_type": "code",
   "execution_count": 15,
   "id": "99f1d8b7-424f-4c4e-ad32-a70827c37e59",
   "metadata": {},
   "outputs": [
    {
     "data": {
      "text/plain": [
       "array([[ 450.,   50.,   37.,   60.,   18.],\n",
       "       [1245.,   77.,   27.,   75.,   22.],\n",
       "       [1225.,   75.,   29.,   77.,   23.],\n",
       "       [ 400.,   60.,   39.,   60.,   18.],\n",
       "       [ 440.,   58.,   37.,   66.,   22.],\n",
       "       [ 450.,   55.,   38.,   65.,   19.],\n",
       "       [ 400.,   50.,   39.,   60.,   18.],\n",
       "       [ 450.,   65.,   38.,   60.,   20.],\n",
       "       [ 415.,   55.,   38.,   65.,   19.],\n",
       "       [ 410.,   55.,   38.,   68.,   20.],\n",
       "       [1250.,   77.,   28.,   78.,   23.],\n",
       "       [1150.,   80.,   26.,   75.,   21.],\n",
       "       [ 405.,   55.,   36.,   60.,   21.],\n",
       "       [ 410.,   52.,   40.,   62.,   19.],\n",
       "       [ 500.,   70.,   34.,   74.,   22.],\n",
       "       [ 460.,   55.,   38.,   61.,   20.],\n",
       "       [ 455.,   60.,   38.,   65.,   20.],\n",
       "       [ 500.,   50.,   37.,   65.,   18.],\n",
       "       [1300.,   80.,   28.,   80.,   24.],\n",
       "       [1200.,   79.,   27.,   77.,   23.],\n",
       "       [1200.,   73.,   29.,   73.,   23.],\n",
       "       [ 425.,   65.,   37.,   67.,   18.],\n",
       "       [ 455.,   58.,   37.,   61.,   21.],\n",
       "       [1250.,   80.,   28.,   80.,   24.],\n",
       "       [1200.,   78.,   27.,   78.,   23.],\n",
       "       [1200.,   77.,   29.,   76.,   22.],\n",
       "       [1250.,   70.,   24.,   70.,   22.],\n",
       "       [ 400.,   52.,   38.,   64.,   19.],\n",
       "       [ 425.,   50.,   37.,   65.,   18.],\n",
       "       [ 450.,   50.,   37.,   65.,   18.],\n",
       "       [ 450.,   65.,   35.,   70.,   19.],\n",
       "       [ 410.,   55.,   36.,   65.,   21.],\n",
       "       [1250.,   75.,   26.,   75.,   22.],\n",
       "       [1200.,   77.,   27.,   78.,   23.],\n",
       "       [ 400.,   50.,   40.,   60.,   18.],\n",
       "       [1275.,   71.,   28.,   77.,   21.],\n",
       "       [ 445.,   65.,   39.,   65.,   21.],\n",
       "       [1300.,   70.,   24.,   70.,   22.],\n",
       "       [ 460.,   60.,   39.,   60.,   20.],\n",
       "       [1280.,   73.,   28.,   75.,   24.],\n",
       "       [1230.,   80.,   28.,   80.,   24.],\n",
       "       [1245.,   78.,   27.,   78.,   22.],\n",
       "       [ 410.,   60.,   39.,   65.,   18.],\n",
       "       [1225.,   79.,   24.,   79.,   22.],\n",
       "       [1250.,   75.,   27.,   75.,   23.],\n",
       "       [1275.,   76.,   26.,   75.,   24.],\n",
       "       [ 475.,   60.,   37.,   63.,   20.],\n",
       "       [ 425.,   70.,   39.,   70.,   20.],\n",
       "       [1220.,   79.,   28.,   77.,   23.],\n",
       "       [1175.,   70.,   28.,   70.,   22.],\n",
       "       [ 405.,   55.,   36.,   60.,   21.],\n",
       "       [1300.,   79.,   28.,   77.,   23.],\n",
       "       [1220.,   77.,   29.,   75.,   22.],\n",
       "       [ 450.,   70.,   36.,   72.,   25.],\n",
       "       [ 475.,   62.,   37.,   68.,   22.],\n",
       "       [ 475.,   58.,   39.,   68.,   19.],\n",
       "       [1275.,   76.,   26.,   75.,   24.],\n",
       "       [ 475.,   65.,   38.,   60.,   20.],\n",
       "       [ 425.,   55.,   36.,   65.,   19.],\n",
       "       [ 450.,   56.,   40.,   67.,   18.],\n",
       "       [ 450.,   65.,   39.,   70.,   20.],\n",
       "       [ 425.,   60.,   39.,   60.,   18.],\n",
       "       [1200.,   72.,   29.,   73.,   21.],\n",
       "       [ 480.,   60.,   36.,   70.,   20.],\n",
       "       [1275.,   77.,   27.,   78.,   21.],\n",
       "       [1280.,   76.,   26.,   75.,   24.],\n",
       "       [1250.,   75.,   29.,   78.,   22.],\n",
       "       [1225.,   73.,   29.,   73.,   23.],\n",
       "       [ 475.,   60.,   39.,   70.,   20.],\n",
       "       [1225.,   75.,   28.,   75.,   23.],\n",
       "       [1275.,   77.,   28.,   76.,   22.],\n",
       "       [1250.,   77.,   28.,   76.,   22.],\n",
       "       [1225.,   75.,   28.,   79.,   21.],\n",
       "       [ 410.,   50.,   37.,   59.,   19.],\n",
       "       [1175.,   77.,   25.,   75.,   22.],\n",
       "       [ 450.,   59.,   40.,   67.,   18.],\n",
       "       [1250.,   70.,   24.,   70.,   22.],\n",
       "       [1150.,   78.,   29.,   77.,   21.],\n",
       "       [ 430.,   65.,   39.,   65.,   19.]])"
      ]
     },
     "execution_count": 15,
     "metadata": {},
     "output_type": "execute_result"
    }
   ],
   "source": [
    "x_train"
   ]
  },
  {
   "cell_type": "code",
   "execution_count": 16,
   "id": "f1c67509-acb3-4331-8234-861f2e19f095",
   "metadata": {},
   "outputs": [
    {
     "data": {
      "text/plain": [
       "array([11. , 11. ,  6.5, 11. ,  7. ,  9. , 11. , 11. , 12. , 12. ,  6. ,\n",
       "       12. ,  8. ,  6. , 11. , 11. ,  7. , 11. , 11. ,  7. ])"
      ]
     },
     "execution_count": 16,
     "metadata": {},
     "output_type": "execute_result"
    }
   ],
   "source": [
    "y_test"
   ]
  },
  {
   "cell_type": "markdown",
   "id": "46e932ae-eb75-45d6-9e25-d1233441d036",
   "metadata": {},
   "source": [
    "**CHOOSING THE MODEL**"
   ]
  },
  {
   "cell_type": "code",
   "execution_count": 17,
   "id": "6b8823c9-00ee-4a3c-95d3-10fa51d0a4e7",
   "metadata": {},
   "outputs": [],
   "source": [
    "regressor = DecisionTreeRegressor()"
   ]
  },
  {
   "cell_type": "markdown",
   "id": "a14f21b4-2d10-48af-871d-aa3caf5f36bc",
   "metadata": {},
   "source": [
    "**HYPER PARAMETER TUNING**"
   ]
  },
  {
   "cell_type": "code",
   "execution_count": 18,
   "id": "4ef31594-c602-46ac-8a2d-86e174f6aa57",
   "metadata": {},
   "outputs": [],
   "source": [
    "criterion = [\"squared_error\", \"friedman_mse\", \"absolute_error\", \"poisson\"]"
   ]
  },
  {
   "cell_type": "code",
   "execution_count": 19,
   "id": "731464e9-9f72-4ede-b87a-4f9bdbbc8b88",
   "metadata": {},
   "outputs": [],
   "source": [
    "splitter = [\"best\",\"random\"]"
   ]
  },
  {
   "cell_type": "code",
   "execution_count": 20,
   "id": "9e572582-d323-4b3f-8db4-6c05616a1f7f",
   "metadata": {},
   "outputs": [],
   "source": [
    "max_depth = [int(i) for i in np.linspace(5,50,10)]"
   ]
  },
  {
   "cell_type": "code",
   "execution_count": 21,
   "id": "bf550d8e-a41d-4b6d-ac77-23ccf39d1488",
   "metadata": {},
   "outputs": [],
   "source": [
    "min_samples_split = [int(i) for i in np.linspace(5,100,20)]"
   ]
  },
  {
   "cell_type": "code",
   "execution_count": 22,
   "id": "91c8b862-6920-45c3-9201-644cba5781e4",
   "metadata": {},
   "outputs": [],
   "source": [
    "min_samples_leaf = [int(i) for i in np.linspace(5,100,20)]"
   ]
  },
  {
   "cell_type": "code",
   "execution_count": 23,
   "id": "be884922-71ed-4b13-b216-d3011f96759a",
   "metadata": {},
   "outputs": [],
   "source": [
    "max_features = [\"sqrt\",\"log2\"]"
   ]
  },
  {
   "cell_type": "code",
   "execution_count": 24,
   "id": "06098225-2929-4208-8548-b8ddc93b48aa",
   "metadata": {},
   "outputs": [],
   "source": [
    "random_state = [int(i) for i in np.linspace(5,70,10)]"
   ]
  },
  {
   "cell_type": "code",
   "execution_count": 25,
   "id": "4a336369-4ed3-4ad5-835c-69c0e3fc2462",
   "metadata": {},
   "outputs": [],
   "source": [
    "max_leaf_nodes = [3,None]"
   ]
  },
  {
   "cell_type": "code",
   "execution_count": 26,
   "id": "34a60200-dd88-47a0-b0bf-a0d664e0af25",
   "metadata": {},
   "outputs": [
    {
     "data": {
      "text/plain": [
       "{'criterion': ['squared_error', 'friedman_mse', 'absolute_error', 'poisson'],\n",
       " 'splitter': ['best', 'random'],\n",
       " 'max_depth': [5, 10, 15, 20, 25, 30, 35, 40, 45, 50],\n",
       " 'min_samples_split': [5,\n",
       "  10,\n",
       "  15,\n",
       "  20,\n",
       "  25,\n",
       "  30,\n",
       "  35,\n",
       "  40,\n",
       "  45,\n",
       "  50,\n",
       "  55,\n",
       "  60,\n",
       "  65,\n",
       "  70,\n",
       "  75,\n",
       "  80,\n",
       "  85,\n",
       "  90,\n",
       "  95,\n",
       "  100],\n",
       " 'min_samples_leaf': [5,\n",
       "  10,\n",
       "  15,\n",
       "  20,\n",
       "  25,\n",
       "  30,\n",
       "  35,\n",
       "  40,\n",
       "  45,\n",
       "  50,\n",
       "  55,\n",
       "  60,\n",
       "  65,\n",
       "  70,\n",
       "  75,\n",
       "  80,\n",
       "  85,\n",
       "  90,\n",
       "  95,\n",
       "  100],\n",
       " 'max_features': ['sqrt', 'log2'],\n",
       " 'random_state': [5, 12, 19, 26, 33, 41, 48, 55, 62, 70],\n",
       " 'max_leaf_nodes': [3, None]}"
      ]
     },
     "execution_count": 26,
     "metadata": {},
     "output_type": "execute_result"
    }
   ],
   "source": [
    "random_grid = {\"criterion\":criterion,\n",
    "              \"splitter\":splitter,\n",
    "              \"max_depth\":max_depth,\n",
    "              \"min_samples_split\":min_samples_split,\n",
    "              \"min_samples_leaf\":min_samples_leaf,\n",
    "               \"max_features\":max_features,\n",
    "              \"random_state\":random_state,\n",
    "              \"max_leaf_nodes\":max_leaf_nodes}\n",
    "random_grid"
   ]
  },
  {
   "cell_type": "code",
   "execution_count": 27,
   "id": "e9942ee3-113b-4b66-8af0-64d8290d8e90",
   "metadata": {},
   "outputs": [],
   "source": [
    "model = RandomizedSearchCV(estimator = regressor,\n",
    "                          param_distributions = random_grid,\n",
    "                          scoring = \"neg_mean_squared_error\",\n",
    "                          cv = 5,\n",
    "                          verbose = 2,\n",
    "                          random_state = 44,\n",
    "                          n_jobs = 1)"
   ]
  },
  {
   "cell_type": "markdown",
   "id": "0d70c6a1-6b06-4b15-8861-7cd6c1188641",
   "metadata": {},
   "source": [
    "**TRAINING THE MODEL**"
   ]
  },
  {
   "cell_type": "code",
   "execution_count": 28,
   "id": "4e595032-37cd-481b-b280-6c34bd8cf88e",
   "metadata": {},
   "outputs": [
    {
     "name": "stdout",
     "output_type": "stream",
     "text": [
      "Fitting 5 folds for each of 10 candidates, totalling 50 fits\n",
      "[CV] END criterion=squared_error, max_depth=25, max_features=log2, max_leaf_nodes=None, min_samples_leaf=65, min_samples_split=15, random_state=19, splitter=random; total time=   0.0s\n",
      "[CV] END criterion=squared_error, max_depth=25, max_features=log2, max_leaf_nodes=None, min_samples_leaf=65, min_samples_split=15, random_state=19, splitter=random; total time=   0.0s\n",
      "[CV] END criterion=squared_error, max_depth=25, max_features=log2, max_leaf_nodes=None, min_samples_leaf=65, min_samples_split=15, random_state=19, splitter=random; total time=   0.0s\n",
      "[CV] END criterion=squared_error, max_depth=25, max_features=log2, max_leaf_nodes=None, min_samples_leaf=65, min_samples_split=15, random_state=19, splitter=random; total time=   0.0s\n",
      "[CV] END criterion=squared_error, max_depth=25, max_features=log2, max_leaf_nodes=None, min_samples_leaf=65, min_samples_split=15, random_state=19, splitter=random; total time=   0.0s\n",
      "[CV] END criterion=squared_error, max_depth=10, max_features=log2, max_leaf_nodes=3, min_samples_leaf=25, min_samples_split=35, random_state=12, splitter=random; total time=   0.0s\n",
      "[CV] END criterion=squared_error, max_depth=10, max_features=log2, max_leaf_nodes=3, min_samples_leaf=25, min_samples_split=35, random_state=12, splitter=random; total time=   0.0s\n",
      "[CV] END criterion=squared_error, max_depth=10, max_features=log2, max_leaf_nodes=3, min_samples_leaf=25, min_samples_split=35, random_state=12, splitter=random; total time=   0.0s\n",
      "[CV] END criterion=squared_error, max_depth=10, max_features=log2, max_leaf_nodes=3, min_samples_leaf=25, min_samples_split=35, random_state=12, splitter=random; total time=   0.0s\n",
      "[CV] END criterion=squared_error, max_depth=10, max_features=log2, max_leaf_nodes=3, min_samples_leaf=25, min_samples_split=35, random_state=12, splitter=random; total time=   0.0s\n",
      "[CV] END criterion=absolute_error, max_depth=5, max_features=sqrt, max_leaf_nodes=3, min_samples_leaf=15, min_samples_split=85, random_state=5, splitter=best; total time=   0.0s\n",
      "[CV] END criterion=absolute_error, max_depth=5, max_features=sqrt, max_leaf_nodes=3, min_samples_leaf=15, min_samples_split=85, random_state=5, splitter=best; total time=   0.0s\n",
      "[CV] END criterion=absolute_error, max_depth=5, max_features=sqrt, max_leaf_nodes=3, min_samples_leaf=15, min_samples_split=85, random_state=5, splitter=best; total time=   0.0s\n",
      "[CV] END criterion=absolute_error, max_depth=5, max_features=sqrt, max_leaf_nodes=3, min_samples_leaf=15, min_samples_split=85, random_state=5, splitter=best; total time=   0.0s\n",
      "[CV] END criterion=absolute_error, max_depth=5, max_features=sqrt, max_leaf_nodes=3, min_samples_leaf=15, min_samples_split=85, random_state=5, splitter=best; total time=   0.0s\n",
      "[CV] END criterion=friedman_mse, max_depth=40, max_features=log2, max_leaf_nodes=3, min_samples_leaf=70, min_samples_split=45, random_state=33, splitter=best; total time=   0.0s\n",
      "[CV] END criterion=friedman_mse, max_depth=40, max_features=log2, max_leaf_nodes=3, min_samples_leaf=70, min_samples_split=45, random_state=33, splitter=best; total time=   0.0s\n",
      "[CV] END criterion=friedman_mse, max_depth=40, max_features=log2, max_leaf_nodes=3, min_samples_leaf=70, min_samples_split=45, random_state=33, splitter=best; total time=   0.0s\n",
      "[CV] END criterion=friedman_mse, max_depth=40, max_features=log2, max_leaf_nodes=3, min_samples_leaf=70, min_samples_split=45, random_state=33, splitter=best; total time=   0.0s\n",
      "[CV] END criterion=friedman_mse, max_depth=40, max_features=log2, max_leaf_nodes=3, min_samples_leaf=70, min_samples_split=45, random_state=33, splitter=best; total time=   0.0s\n",
      "[CV] END criterion=poisson, max_depth=5, max_features=sqrt, max_leaf_nodes=3, min_samples_leaf=75, min_samples_split=50, random_state=12, splitter=random; total time=   0.0s\n",
      "[CV] END criterion=poisson, max_depth=5, max_features=sqrt, max_leaf_nodes=3, min_samples_leaf=75, min_samples_split=50, random_state=12, splitter=random; total time=   0.0s\n",
      "[CV] END criterion=poisson, max_depth=5, max_features=sqrt, max_leaf_nodes=3, min_samples_leaf=75, min_samples_split=50, random_state=12, splitter=random; total time=   0.0s\n",
      "[CV] END criterion=poisson, max_depth=5, max_features=sqrt, max_leaf_nodes=3, min_samples_leaf=75, min_samples_split=50, random_state=12, splitter=random; total time=   0.0s\n",
      "[CV] END criterion=poisson, max_depth=5, max_features=sqrt, max_leaf_nodes=3, min_samples_leaf=75, min_samples_split=50, random_state=12, splitter=random; total time=   0.0s\n",
      "[CV] END criterion=poisson, max_depth=10, max_features=log2, max_leaf_nodes=None, min_samples_leaf=55, min_samples_split=55, random_state=55, splitter=random; total time=   0.0s\n",
      "[CV] END criterion=poisson, max_depth=10, max_features=log2, max_leaf_nodes=None, min_samples_leaf=55, min_samples_split=55, random_state=55, splitter=random; total time=   0.0s\n",
      "[CV] END criterion=poisson, max_depth=10, max_features=log2, max_leaf_nodes=None, min_samples_leaf=55, min_samples_split=55, random_state=55, splitter=random; total time=   0.0s\n",
      "[CV] END criterion=poisson, max_depth=10, max_features=log2, max_leaf_nodes=None, min_samples_leaf=55, min_samples_split=55, random_state=55, splitter=random; total time=   0.0s\n",
      "[CV] END criterion=poisson, max_depth=10, max_features=log2, max_leaf_nodes=None, min_samples_leaf=55, min_samples_split=55, random_state=55, splitter=random; total time=   0.0s\n",
      "[CV] END criterion=friedman_mse, max_depth=45, max_features=sqrt, max_leaf_nodes=None, min_samples_leaf=45, min_samples_split=65, random_state=70, splitter=random; total time=   0.0s\n",
      "[CV] END criterion=friedman_mse, max_depth=45, max_features=sqrt, max_leaf_nodes=None, min_samples_leaf=45, min_samples_split=65, random_state=70, splitter=random; total time=   0.0s\n",
      "[CV] END criterion=friedman_mse, max_depth=45, max_features=sqrt, max_leaf_nodes=None, min_samples_leaf=45, min_samples_split=65, random_state=70, splitter=random; total time=   0.0s\n",
      "[CV] END criterion=friedman_mse, max_depth=45, max_features=sqrt, max_leaf_nodes=None, min_samples_leaf=45, min_samples_split=65, random_state=70, splitter=random; total time=   0.0s\n",
      "[CV] END criterion=friedman_mse, max_depth=45, max_features=sqrt, max_leaf_nodes=None, min_samples_leaf=45, min_samples_split=65, random_state=70, splitter=random; total time=   0.0s\n",
      "[CV] END criterion=absolute_error, max_depth=30, max_features=sqrt, max_leaf_nodes=3, min_samples_leaf=45, min_samples_split=50, random_state=55, splitter=random; total time=   0.0s\n",
      "[CV] END criterion=absolute_error, max_depth=30, max_features=sqrt, max_leaf_nodes=3, min_samples_leaf=45, min_samples_split=50, random_state=55, splitter=random; total time=   0.0s\n",
      "[CV] END criterion=absolute_error, max_depth=30, max_features=sqrt, max_leaf_nodes=3, min_samples_leaf=45, min_samples_split=50, random_state=55, splitter=random; total time=   0.0s\n",
      "[CV] END criterion=absolute_error, max_depth=30, max_features=sqrt, max_leaf_nodes=3, min_samples_leaf=45, min_samples_split=50, random_state=55, splitter=random; total time=   0.0s\n",
      "[CV] END criterion=absolute_error, max_depth=30, max_features=sqrt, max_leaf_nodes=3, min_samples_leaf=45, min_samples_split=50, random_state=55, splitter=random; total time=   0.0s\n",
      "[CV] END criterion=friedman_mse, max_depth=25, max_features=log2, max_leaf_nodes=None, min_samples_leaf=70, min_samples_split=55, random_state=41, splitter=random; total time=   0.0s\n",
      "[CV] END criterion=friedman_mse, max_depth=25, max_features=log2, max_leaf_nodes=None, min_samples_leaf=70, min_samples_split=55, random_state=41, splitter=random; total time=   0.0s\n",
      "[CV] END criterion=friedman_mse, max_depth=25, max_features=log2, max_leaf_nodes=None, min_samples_leaf=70, min_samples_split=55, random_state=41, splitter=random; total time=   0.0s\n",
      "[CV] END criterion=friedman_mse, max_depth=25, max_features=log2, max_leaf_nodes=None, min_samples_leaf=70, min_samples_split=55, random_state=41, splitter=random; total time=   0.0s\n",
      "[CV] END criterion=friedman_mse, max_depth=25, max_features=log2, max_leaf_nodes=None, min_samples_leaf=70, min_samples_split=55, random_state=41, splitter=random; total time=   0.0s\n",
      "[CV] END criterion=friedman_mse, max_depth=5, max_features=sqrt, max_leaf_nodes=None, min_samples_leaf=35, min_samples_split=85, random_state=26, splitter=best; total time=   0.0s\n",
      "[CV] END criterion=friedman_mse, max_depth=5, max_features=sqrt, max_leaf_nodes=None, min_samples_leaf=35, min_samples_split=85, random_state=26, splitter=best; total time=   0.0s\n",
      "[CV] END criterion=friedman_mse, max_depth=5, max_features=sqrt, max_leaf_nodes=None, min_samples_leaf=35, min_samples_split=85, random_state=26, splitter=best; total time=   0.0s\n",
      "[CV] END criterion=friedman_mse, max_depth=5, max_features=sqrt, max_leaf_nodes=None, min_samples_leaf=35, min_samples_split=85, random_state=26, splitter=best; total time=   0.0s\n",
      "[CV] END criterion=friedman_mse, max_depth=5, max_features=sqrt, max_leaf_nodes=None, min_samples_leaf=35, min_samples_split=85, random_state=26, splitter=best; total time=   0.0s\n"
     ]
    },
    {
     "data": {
      "text/html": [
       "<style>#sk-container-id-1 {color: black;}#sk-container-id-1 pre{padding: 0;}#sk-container-id-1 div.sk-toggleable {background-color: white;}#sk-container-id-1 label.sk-toggleable__label {cursor: pointer;display: block;width: 100%;margin-bottom: 0;padding: 0.3em;box-sizing: border-box;text-align: center;}#sk-container-id-1 label.sk-toggleable__label-arrow:before {content: \"▸\";float: left;margin-right: 0.25em;color: #696969;}#sk-container-id-1 label.sk-toggleable__label-arrow:hover:before {color: black;}#sk-container-id-1 div.sk-estimator:hover label.sk-toggleable__label-arrow:before {color: black;}#sk-container-id-1 div.sk-toggleable__content {max-height: 0;max-width: 0;overflow: hidden;text-align: left;background-color: #f0f8ff;}#sk-container-id-1 div.sk-toggleable__content pre {margin: 0.2em;color: black;border-radius: 0.25em;background-color: #f0f8ff;}#sk-container-id-1 input.sk-toggleable__control:checked~div.sk-toggleable__content {max-height: 200px;max-width: 100%;overflow: auto;}#sk-container-id-1 input.sk-toggleable__control:checked~label.sk-toggleable__label-arrow:before {content: \"▾\";}#sk-container-id-1 div.sk-estimator input.sk-toggleable__control:checked~label.sk-toggleable__label {background-color: #d4ebff;}#sk-container-id-1 div.sk-label input.sk-toggleable__control:checked~label.sk-toggleable__label {background-color: #d4ebff;}#sk-container-id-1 input.sk-hidden--visually {border: 0;clip: rect(1px 1px 1px 1px);clip: rect(1px, 1px, 1px, 1px);height: 1px;margin: -1px;overflow: hidden;padding: 0;position: absolute;width: 1px;}#sk-container-id-1 div.sk-estimator {font-family: monospace;background-color: #f0f8ff;border: 1px dotted black;border-radius: 0.25em;box-sizing: border-box;margin-bottom: 0.5em;}#sk-container-id-1 div.sk-estimator:hover {background-color: #d4ebff;}#sk-container-id-1 div.sk-parallel-item::after {content: \"\";width: 100%;border-bottom: 1px solid gray;flex-grow: 1;}#sk-container-id-1 div.sk-label:hover label.sk-toggleable__label {background-color: #d4ebff;}#sk-container-id-1 div.sk-serial::before {content: \"\";position: absolute;border-left: 1px solid gray;box-sizing: border-box;top: 0;bottom: 0;left: 50%;z-index: 0;}#sk-container-id-1 div.sk-serial {display: flex;flex-direction: column;align-items: center;background-color: white;padding-right: 0.2em;padding-left: 0.2em;position: relative;}#sk-container-id-1 div.sk-item {position: relative;z-index: 1;}#sk-container-id-1 div.sk-parallel {display: flex;align-items: stretch;justify-content: center;background-color: white;position: relative;}#sk-container-id-1 div.sk-item::before, #sk-container-id-1 div.sk-parallel-item::before {content: \"\";position: absolute;border-left: 1px solid gray;box-sizing: border-box;top: 0;bottom: 0;left: 50%;z-index: -1;}#sk-container-id-1 div.sk-parallel-item {display: flex;flex-direction: column;z-index: 1;position: relative;background-color: white;}#sk-container-id-1 div.sk-parallel-item:first-child::after {align-self: flex-end;width: 50%;}#sk-container-id-1 div.sk-parallel-item:last-child::after {align-self: flex-start;width: 50%;}#sk-container-id-1 div.sk-parallel-item:only-child::after {width: 0;}#sk-container-id-1 div.sk-dashed-wrapped {border: 1px dashed gray;margin: 0 0.4em 0.5em 0.4em;box-sizing: border-box;padding-bottom: 0.4em;background-color: white;}#sk-container-id-1 div.sk-label label {font-family: monospace;font-weight: bold;display: inline-block;line-height: 1.2em;}#sk-container-id-1 div.sk-label-container {text-align: center;}#sk-container-id-1 div.sk-container {/* jupyter's `normalize.less` sets `[hidden] { display: none; }` but bootstrap.min.css set `[hidden] { display: none !important; }` so we also need the `!important` here to be able to override the default hidden behavior on the sphinx rendered scikit-learn.org. See: https://github.com/scikit-learn/scikit-learn/issues/21755 */display: inline-block !important;position: relative;}#sk-container-id-1 div.sk-text-repr-fallback {display: none;}</style><div id=\"sk-container-id-1\" class=\"sk-top-container\"><div class=\"sk-text-repr-fallback\"><pre>RandomizedSearchCV(cv=5, estimator=DecisionTreeRegressor(), n_jobs=1,\n",
       "                   param_distributions={&#x27;criterion&#x27;: [&#x27;squared_error&#x27;,\n",
       "                                                      &#x27;friedman_mse&#x27;,\n",
       "                                                      &#x27;absolute_error&#x27;,\n",
       "                                                      &#x27;poisson&#x27;],\n",
       "                                        &#x27;max_depth&#x27;: [5, 10, 15, 20, 25, 30, 35,\n",
       "                                                      40, 45, 50],\n",
       "                                        &#x27;max_features&#x27;: [&#x27;sqrt&#x27;, &#x27;log2&#x27;],\n",
       "                                        &#x27;max_leaf_nodes&#x27;: [3, None],\n",
       "                                        &#x27;min_samples_leaf&#x27;: [5, 10, 15, 20, 25,\n",
       "                                                             30, 35, 40, 45, 50,\n",
       "                                                             55, 60, 65, 70, 75,\n",
       "                                                             80, 85, 90, 95,\n",
       "                                                             100],\n",
       "                                        &#x27;min_samples_split&#x27;: [5, 10, 15, 20, 25,\n",
       "                                                              30, 35, 40, 45,\n",
       "                                                              50, 55, 60, 65,\n",
       "                                                              70, 75, 80, 85,\n",
       "                                                              90, 95, 100],\n",
       "                                        &#x27;random_state&#x27;: [5, 12, 19, 26, 33, 41,\n",
       "                                                         48, 55, 62, 70],\n",
       "                                        &#x27;splitter&#x27;: [&#x27;best&#x27;, &#x27;random&#x27;]},\n",
       "                   random_state=44, scoring=&#x27;neg_mean_squared_error&#x27;,\n",
       "                   verbose=2)</pre><b>In a Jupyter environment, please rerun this cell to show the HTML representation or trust the notebook. <br />On GitHub, the HTML representation is unable to render, please try loading this page with nbviewer.org.</b></div><div class=\"sk-container\" hidden><div class=\"sk-item sk-dashed-wrapped\"><div class=\"sk-label-container\"><div class=\"sk-label sk-toggleable\"><input class=\"sk-toggleable__control sk-hidden--visually\" id=\"sk-estimator-id-1\" type=\"checkbox\" ><label for=\"sk-estimator-id-1\" class=\"sk-toggleable__label sk-toggleable__label-arrow\">RandomizedSearchCV</label><div class=\"sk-toggleable__content\"><pre>RandomizedSearchCV(cv=5, estimator=DecisionTreeRegressor(), n_jobs=1,\n",
       "                   param_distributions={&#x27;criterion&#x27;: [&#x27;squared_error&#x27;,\n",
       "                                                      &#x27;friedman_mse&#x27;,\n",
       "                                                      &#x27;absolute_error&#x27;,\n",
       "                                                      &#x27;poisson&#x27;],\n",
       "                                        &#x27;max_depth&#x27;: [5, 10, 15, 20, 25, 30, 35,\n",
       "                                                      40, 45, 50],\n",
       "                                        &#x27;max_features&#x27;: [&#x27;sqrt&#x27;, &#x27;log2&#x27;],\n",
       "                                        &#x27;max_leaf_nodes&#x27;: [3, None],\n",
       "                                        &#x27;min_samples_leaf&#x27;: [5, 10, 15, 20, 25,\n",
       "                                                             30, 35, 40, 45, 50,\n",
       "                                                             55, 60, 65, 70, 75,\n",
       "                                                             80, 85, 90, 95,\n",
       "                                                             100],\n",
       "                                        &#x27;min_samples_split&#x27;: [5, 10, 15, 20, 25,\n",
       "                                                              30, 35, 40, 45,\n",
       "                                                              50, 55, 60, 65,\n",
       "                                                              70, 75, 80, 85,\n",
       "                                                              90, 95, 100],\n",
       "                                        &#x27;random_state&#x27;: [5, 12, 19, 26, 33, 41,\n",
       "                                                         48, 55, 62, 70],\n",
       "                                        &#x27;splitter&#x27;: [&#x27;best&#x27;, &#x27;random&#x27;]},\n",
       "                   random_state=44, scoring=&#x27;neg_mean_squared_error&#x27;,\n",
       "                   verbose=2)</pre></div></div></div><div class=\"sk-parallel\"><div class=\"sk-parallel-item\"><div class=\"sk-item\"><div class=\"sk-label-container\"><div class=\"sk-label sk-toggleable\"><input class=\"sk-toggleable__control sk-hidden--visually\" id=\"sk-estimator-id-2\" type=\"checkbox\" ><label for=\"sk-estimator-id-2\" class=\"sk-toggleable__label sk-toggleable__label-arrow\">estimator: DecisionTreeRegressor</label><div class=\"sk-toggleable__content\"><pre>DecisionTreeRegressor()</pre></div></div></div><div class=\"sk-serial\"><div class=\"sk-item\"><div class=\"sk-estimator sk-toggleable\"><input class=\"sk-toggleable__control sk-hidden--visually\" id=\"sk-estimator-id-3\" type=\"checkbox\" ><label for=\"sk-estimator-id-3\" class=\"sk-toggleable__label sk-toggleable__label-arrow\">DecisionTreeRegressor</label><div class=\"sk-toggleable__content\"><pre>DecisionTreeRegressor()</pre></div></div></div></div></div></div></div></div></div></div>"
      ],
      "text/plain": [
       "RandomizedSearchCV(cv=5, estimator=DecisionTreeRegressor(), n_jobs=1,\n",
       "                   param_distributions={'criterion': ['squared_error',\n",
       "                                                      'friedman_mse',\n",
       "                                                      'absolute_error',\n",
       "                                                      'poisson'],\n",
       "                                        'max_depth': [5, 10, 15, 20, 25, 30, 35,\n",
       "                                                      40, 45, 50],\n",
       "                                        'max_features': ['sqrt', 'log2'],\n",
       "                                        'max_leaf_nodes': [3, None],\n",
       "                                        'min_samples_leaf': [5, 10, 15, 20, 25,\n",
       "                                                             30, 35, 40, 45, 50,\n",
       "                                                             55, 60, 65, 70, 75,\n",
       "                                                             80, 85, 90, 95,\n",
       "                                                             100],\n",
       "                                        'min_samples_split': [5, 10, 15, 20, 25,\n",
       "                                                              30, 35, 40, 45,\n",
       "                                                              50, 55, 60, 65,\n",
       "                                                              70, 75, 80, 85,\n",
       "                                                              90, 95, 100],\n",
       "                                        'random_state': [5, 12, 19, 26, 33, 41,\n",
       "                                                         48, 55, 62, 70],\n",
       "                                        'splitter': ['best', 'random']},\n",
       "                   random_state=44, scoring='neg_mean_squared_error',\n",
       "                   verbose=2)"
      ]
     },
     "execution_count": 28,
     "metadata": {},
     "output_type": "execute_result"
    }
   ],
   "source": [
    "model.fit(x_train,y_train)"
   ]
  },
  {
   "cell_type": "code",
   "execution_count": 29,
   "id": "1188f778-2528-4cf2-a7c0-8fddccdf5936",
   "metadata": {},
   "outputs": [
    {
     "data": {
      "text/plain": [
       "{'splitter': 'random',\n",
       " 'random_state': 12,\n",
       " 'min_samples_split': 35,\n",
       " 'min_samples_leaf': 25,\n",
       " 'max_leaf_nodes': 3,\n",
       " 'max_features': 'log2',\n",
       " 'max_depth': 10,\n",
       " 'criterion': 'squared_error'}"
      ]
     },
     "execution_count": 29,
     "metadata": {},
     "output_type": "execute_result"
    }
   ],
   "source": [
    "model.best_params_"
   ]
  },
  {
   "cell_type": "markdown",
   "id": "fbb61653-eb4b-4a3c-838b-1dba02cf5249",
   "metadata": {},
   "source": [
    "**PREDICTING WITH MODEL**"
   ]
  },
  {
   "cell_type": "code",
   "execution_count": 30,
   "id": "7420e370-aaff-4dea-8598-e81934306d27",
   "metadata": {},
   "outputs": [
    {
     "data": {
      "text/plain": [
       "array([11. , 11. ,  6.5, 11. ,  7. ,  9. , 11. , 11. , 12. , 12. ,  6. ,\n",
       "       12. ,  8. ,  6. , 11. , 11. ,  7. , 11. , 11. ,  7. ])"
      ]
     },
     "execution_count": 30,
     "metadata": {},
     "output_type": "execute_result"
    }
   ],
   "source": [
    "y_test"
   ]
  },
  {
   "cell_type": "code",
   "execution_count": 31,
   "id": "31e2fbf2-0af2-482d-b9e9-13d4eeeeafb1",
   "metadata": {},
   "outputs": [
    {
     "data": {
      "text/plain": [
       "array([10.59210526, 10.59210526,  7.36585366, 10.59210526,  7.36585366,\n",
       "       10.59210526, 10.59210526, 10.59210526, 10.59210526, 10.59210526,\n",
       "        7.36585366, 10.59210526,  7.36585366,  7.36585366, 10.59210526,\n",
       "       10.59210526,  7.36585366, 10.59210526, 10.59210526,  7.36585366])"
      ]
     },
     "execution_count": 31,
     "metadata": {},
     "output_type": "execute_result"
    }
   ],
   "source": [
    "y_pred = model.predict(x_test)\n",
    "y_pred"
   ]
  },
  {
   "cell_type": "markdown",
   "id": "e82e00d3-0b47-4cac-98ff-fff2abdba95f",
   "metadata": {},
   "source": [
    "**TESTING THE MODEL**"
   ]
  },
  {
   "cell_type": "code",
   "execution_count": 32,
   "id": "43eec415-4c75-43e8-bbbd-11623fb219fa",
   "metadata": {},
   "outputs": [
    {
     "data": {
      "text/html": [
       "<div>\n",
       "<style scoped>\n",
       "    .dataframe tbody tr th:only-of-type {\n",
       "        vertical-align: middle;\n",
       "    }\n",
       "\n",
       "    .dataframe tbody tr th {\n",
       "        vertical-align: top;\n",
       "    }\n",
       "\n",
       "    .dataframe thead th {\n",
       "        text-align: right;\n",
       "    }\n",
       "</style>\n",
       "<table border=\"1\" class=\"dataframe\">\n",
       "  <thead>\n",
       "    <tr style=\"text-align: right;\">\n",
       "      <th></th>\n",
       "      <th>Actual Yeild</th>\n",
       "      <th>Prdicted Yield</th>\n",
       "    </tr>\n",
       "  </thead>\n",
       "  <tbody>\n",
       "    <tr>\n",
       "      <th>0</th>\n",
       "      <td>11.0</td>\n",
       "      <td>10.592105</td>\n",
       "    </tr>\n",
       "    <tr>\n",
       "      <th>1</th>\n",
       "      <td>11.0</td>\n",
       "      <td>10.592105</td>\n",
       "    </tr>\n",
       "    <tr>\n",
       "      <th>2</th>\n",
       "      <td>6.5</td>\n",
       "      <td>7.365854</td>\n",
       "    </tr>\n",
       "    <tr>\n",
       "      <th>3</th>\n",
       "      <td>11.0</td>\n",
       "      <td>10.592105</td>\n",
       "    </tr>\n",
       "    <tr>\n",
       "      <th>4</th>\n",
       "      <td>7.0</td>\n",
       "      <td>7.365854</td>\n",
       "    </tr>\n",
       "    <tr>\n",
       "      <th>5</th>\n",
       "      <td>9.0</td>\n",
       "      <td>10.592105</td>\n",
       "    </tr>\n",
       "    <tr>\n",
       "      <th>6</th>\n",
       "      <td>11.0</td>\n",
       "      <td>10.592105</td>\n",
       "    </tr>\n",
       "    <tr>\n",
       "      <th>7</th>\n",
       "      <td>11.0</td>\n",
       "      <td>10.592105</td>\n",
       "    </tr>\n",
       "    <tr>\n",
       "      <th>8</th>\n",
       "      <td>12.0</td>\n",
       "      <td>10.592105</td>\n",
       "    </tr>\n",
       "    <tr>\n",
       "      <th>9</th>\n",
       "      <td>12.0</td>\n",
       "      <td>10.592105</td>\n",
       "    </tr>\n",
       "    <tr>\n",
       "      <th>10</th>\n",
       "      <td>6.0</td>\n",
       "      <td>7.365854</td>\n",
       "    </tr>\n",
       "    <tr>\n",
       "      <th>11</th>\n",
       "      <td>12.0</td>\n",
       "      <td>10.592105</td>\n",
       "    </tr>\n",
       "    <tr>\n",
       "      <th>12</th>\n",
       "      <td>8.0</td>\n",
       "      <td>7.365854</td>\n",
       "    </tr>\n",
       "    <tr>\n",
       "      <th>13</th>\n",
       "      <td>6.0</td>\n",
       "      <td>7.365854</td>\n",
       "    </tr>\n",
       "    <tr>\n",
       "      <th>14</th>\n",
       "      <td>11.0</td>\n",
       "      <td>10.592105</td>\n",
       "    </tr>\n",
       "    <tr>\n",
       "      <th>15</th>\n",
       "      <td>11.0</td>\n",
       "      <td>10.592105</td>\n",
       "    </tr>\n",
       "    <tr>\n",
       "      <th>16</th>\n",
       "      <td>7.0</td>\n",
       "      <td>7.365854</td>\n",
       "    </tr>\n",
       "    <tr>\n",
       "      <th>17</th>\n",
       "      <td>11.0</td>\n",
       "      <td>10.592105</td>\n",
       "    </tr>\n",
       "    <tr>\n",
       "      <th>18</th>\n",
       "      <td>11.0</td>\n",
       "      <td>10.592105</td>\n",
       "    </tr>\n",
       "    <tr>\n",
       "      <th>19</th>\n",
       "      <td>7.0</td>\n",
       "      <td>7.365854</td>\n",
       "    </tr>\n",
       "  </tbody>\n",
       "</table>\n",
       "</div>"
      ],
      "text/plain": [
       "    Actual Yeild  Prdicted Yield\n",
       "0           11.0       10.592105\n",
       "1           11.0       10.592105\n",
       "2            6.5        7.365854\n",
       "3           11.0       10.592105\n",
       "4            7.0        7.365854\n",
       "5            9.0       10.592105\n",
       "6           11.0       10.592105\n",
       "7           11.0       10.592105\n",
       "8           12.0       10.592105\n",
       "9           12.0       10.592105\n",
       "10           6.0        7.365854\n",
       "11          12.0       10.592105\n",
       "12           8.0        7.365854\n",
       "13           6.0        7.365854\n",
       "14          11.0       10.592105\n",
       "15          11.0       10.592105\n",
       "16           7.0        7.365854\n",
       "17          11.0       10.592105\n",
       "18          11.0       10.592105\n",
       "19           7.0        7.365854"
      ]
     },
     "execution_count": 32,
     "metadata": {},
     "output_type": "execute_result"
    }
   ],
   "source": [
    "df = pd.DataFrame({\"Actual Yeild\":y_test,\"Prdicted Yield\":y_pred})\n",
    "df"
   ]
  },
  {
   "cell_type": "code",
   "execution_count": 33,
   "id": "8ed53aa9-df9e-4579-b211-502e26ea79f2",
   "metadata": {},
   "outputs": [
    {
     "data": {
      "text/plain": [
       "<Axes: title={'center': 'Feature-correlation (pearson)'}>"
      ]
     },
     "execution_count": 33,
     "metadata": {},
     "output_type": "execute_result"
    },
    {
     "data": {
      "image/png": "[encoded data removed]",
      "text/plain": [
       "<Figure size 1200x1000 with 2 Axes>"
      ]
     },
     "metadata": {},
     "output_type": "display_data"
    }
   ],
   "source": [
    "klib.corr_plot(df)"
   ]
  },
  {
   "cell_type": "code",
   "execution_count": 34,
   "id": "4a083896-8d55-4bd1-8b03-0aca2a6b129b",
   "metadata": {},
   "outputs": [
    {
     "data": {
      "text/plain": [
       "<Axes: >"
      ]
     },
     "execution_count": 34,
     "metadata": {},
     "output_type": "execute_result"
    },
    {
     "data": {
      "image/png": "[encoded data removed]",
      "text/plain": [
       "<Figure size 640x480 with 1 Axes>"
      ]
     },
     "metadata": {},
     "output_type": "display_data"
    }
   ],
   "source": [
    "df.plot()"
   ]
  },
  {
   "cell_type": "markdown",
   "id": "b6ceb764-cbe0-430f-8a35-138ce7a8c607",
   "metadata": {},
   "source": [
    "**PERFORMANCE METRICS**"
   ]
  },
  {
   "cell_type": "code",
   "execution_count": 35,
   "id": "02b01b06-8d3c-497d-a2b5-795e9c54599f",
   "metadata": {},
   "outputs": [
    {
     "data": {
      "text/plain": [
       "0.7631604129005781"
      ]
     },
     "execution_count": 35,
     "metadata": {},
     "output_type": "execute_result"
    }
   ],
   "source": [
    "mean_squared_error(y_test,y_pred)"
   ]
  },
  {
   "cell_type": "code",
   "execution_count": 36,
   "id": "4c8bc3e2-69cc-4d7c-95dc-c55ecd3df60c",
   "metadata": {},
   "outputs": [
    {
     "data": {
      "text/plain": [
       "0.740805519897304"
      ]
     },
     "execution_count": 36,
     "metadata": {},
     "output_type": "execute_result"
    }
   ],
   "source": [
    "mean_absolute_error(y_test,y_pred)"
   ]
  },
  {
   "cell_type": "code",
   "execution_count": 37,
   "id": "b3daf16f-4492-4585-a357-ca076acbd6b2",
   "metadata": {},
   "outputs": [
    {
     "data": {
      "text/plain": [
       "-0.7631604129005781"
      ]
     },
     "execution_count": 37,
     "metadata": {},
     "output_type": "execute_result"
    }
   ],
   "source": [
    "model.score(x_test,y_test)"
   ]
  },
  {
   "cell_type": "code",
   "execution_count": 38,
   "id": "aa644ced-3776-4860-a897-8944fbfd3e37",
   "metadata": {},
   "outputs": [
    {
     "data": {
      "text/plain": [
       "0.8369968414576259"
      ]
     },
     "execution_count": 38,
     "metadata": {},
     "output_type": "execute_result"
    }
   ],
   "source": [
    "r2_score(y_test,y_pred)"
   ]
  },
  {
   "cell_type": "code",
   "execution_count": null,
   "id": "45d7feac-ef26-4789-9948-c701a0b033cd",
   "metadata": {},
   "outputs": [],
   "source": []
  }
 ],
 "metadata": {
  "kernelspec": {
   "display_name": "Python 3 (ipykernel)",
   "language": "python",
   "name": "python3"
  },
  "language_info": {
   "codemirror_mode": {
    "name": "ipython",
    "version": 3
   },
   "file_extension": ".py",
   "mimetype": "text/x-python",
   "name": "python",
   "nbconvert_exporter": "python",
   "pygments_lexer": "ipython3",
   "version": "3.11.0"
  }
 },
 "nbformat": 4,
 "nbformat_minor": 5
}
