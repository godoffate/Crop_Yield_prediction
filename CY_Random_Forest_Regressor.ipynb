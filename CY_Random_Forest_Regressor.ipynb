{
 "cells": [
  {
   "cell_type": "code",
   "execution_count": 2,
   "id": "2712e010-21a0-46cd-b208-8a89f78ccfec",
   "metadata": {},
   "outputs": [],
   "source": [
    "import numpy as np\n",
    "import pandas as pd\n",
    "import matplotlib.pyplot as plt\n",
    "import seaborn as sns\n",
    "import klib\n",
    "from sklearn.preprocessing import StandardScaler\n",
    "from sklearn.ensemble import RandomForestRegressor, ExtraTreesRegressor\n",
    "from sklearn.model_selection import train_test_split, RandomizedSearchCV\n",
    "from sklearn.metrics import r2_score, mean_squared_error, mean_absolute_error"
   ]
  },
  {
   "cell_type": "code",
   "execution_count": 3,
   "id": "ab138ccc-ab78-48ce-9a80-57bcc91344f2",
   "metadata": {},
   "outputs": [
    {
     "data": {
      "text/html": [
       "<div>\n",
       "<style scoped>\n",
       "    .dataframe tbody tr th:only-of-type {\n",
       "        vertical-align: middle;\n",
       "    }\n",
       "\n",
       "    .dataframe tbody tr th {\n",
       "        vertical-align: top;\n",
       "    }\n",
       "\n",
       "    .dataframe thead th {\n",
       "        text-align: right;\n",
       "    }\n",
       "</style>\n",
       "<table border=\"1\" class=\"dataframe\">\n",
       "  <thead>\n",
       "    <tr style=\"text-align: right;\">\n",
       "      <th></th>\n",
       "      <th>Rain Fall (mm)</th>\n",
       "      <th>Fertilizer(urea) (kg/acre)</th>\n",
       "      <th>Temperature (°C)</th>\n",
       "      <th>Nitrogen (N)</th>\n",
       "      <th>Phosphorus (P)</th>\n",
       "      <th>Potassium (K)</th>\n",
       "      <th>Yeild (Q/acre)</th>\n",
       "    </tr>\n",
       "  </thead>\n",
       "  <tbody>\n",
       "    <tr>\n",
       "      <th>0</th>\n",
       "      <td>1230.0</td>\n",
       "      <td>80.0</td>\n",
       "      <td>28.0</td>\n",
       "      <td>80.0</td>\n",
       "      <td>24.0</td>\n",
       "      <td>20.0</td>\n",
       "      <td>12.0</td>\n",
       "    </tr>\n",
       "    <tr>\n",
       "      <th>1</th>\n",
       "      <td>480.0</td>\n",
       "      <td>60.0</td>\n",
       "      <td>36.0</td>\n",
       "      <td>70.0</td>\n",
       "      <td>20.0</td>\n",
       "      <td>18.0</td>\n",
       "      <td>8.0</td>\n",
       "    </tr>\n",
       "    <tr>\n",
       "      <th>2</th>\n",
       "      <td>1250.0</td>\n",
       "      <td>75.0</td>\n",
       "      <td>29.0</td>\n",
       "      <td>78.0</td>\n",
       "      <td>22.0</td>\n",
       "      <td>19.0</td>\n",
       "      <td>11.0</td>\n",
       "    </tr>\n",
       "    <tr>\n",
       "      <th>3</th>\n",
       "      <td>450.0</td>\n",
       "      <td>65.0</td>\n",
       "      <td>35.0</td>\n",
       "      <td>70.0</td>\n",
       "      <td>19.0</td>\n",
       "      <td>18.0</td>\n",
       "      <td>9.0</td>\n",
       "    </tr>\n",
       "    <tr>\n",
       "      <th>4</th>\n",
       "      <td>1200.0</td>\n",
       "      <td>80.0</td>\n",
       "      <td>27.0</td>\n",
       "      <td>79.0</td>\n",
       "      <td>22.0</td>\n",
       "      <td>19.0</td>\n",
       "      <td>11.0</td>\n",
       "    </tr>\n",
       "    <tr>\n",
       "      <th>...</th>\n",
       "      <td>...</td>\n",
       "      <td>...</td>\n",
       "      <td>...</td>\n",
       "      <td>...</td>\n",
       "      <td>...</td>\n",
       "      <td>...</td>\n",
       "      <td>...</td>\n",
       "    </tr>\n",
       "    <tr>\n",
       "      <th>94</th>\n",
       "      <td>1250.0</td>\n",
       "      <td>77.0</td>\n",
       "      <td>28.0</td>\n",
       "      <td>78.0</td>\n",
       "      <td>23.0</td>\n",
       "      <td>20.0</td>\n",
       "      <td>9.0</td>\n",
       "    </tr>\n",
       "    <tr>\n",
       "      <th>95</th>\n",
       "      <td>425.0</td>\n",
       "      <td>60.0</td>\n",
       "      <td>39.0</td>\n",
       "      <td>65.0</td>\n",
       "      <td>19.0</td>\n",
       "      <td>17.0</td>\n",
       "      <td>6.5</td>\n",
       "    </tr>\n",
       "    <tr>\n",
       "      <th>96</th>\n",
       "      <td>1220.0</td>\n",
       "      <td>79.0</td>\n",
       "      <td>28.0</td>\n",
       "      <td>77.0</td>\n",
       "      <td>23.0</td>\n",
       "      <td>21.0</td>\n",
       "      <td>10.5</td>\n",
       "    </tr>\n",
       "    <tr>\n",
       "      <th>97</th>\n",
       "      <td>480.0</td>\n",
       "      <td>65.0</td>\n",
       "      <td>36.0</td>\n",
       "      <td>68.0</td>\n",
       "      <td>21.0</td>\n",
       "      <td>16.0</td>\n",
       "      <td>7.0</td>\n",
       "    </tr>\n",
       "    <tr>\n",
       "      <th>98</th>\n",
       "      <td>1230.0</td>\n",
       "      <td>80.0</td>\n",
       "      <td>28.0</td>\n",
       "      <td>80.0</td>\n",
       "      <td>24.0</td>\n",
       "      <td>20.0</td>\n",
       "      <td>12.0</td>\n",
       "    </tr>\n",
       "  </tbody>\n",
       "</table>\n",
       "<p>99 rows × 7 columns</p>\n",
       "</div>"
      ],
      "text/plain": [
       "    Rain Fall (mm)  Fertilizer(urea) (kg/acre)  Temperature (°C)  \\\n",
       "0           1230.0                        80.0              28.0   \n",
       "1            480.0                        60.0              36.0   \n",
       "2           1250.0                        75.0              29.0   \n",
       "3            450.0                        65.0              35.0   \n",
       "4           1200.0                        80.0              27.0   \n",
       "..             ...                         ...               ...   \n",
       "94          1250.0                        77.0              28.0   \n",
       "95           425.0                        60.0              39.0   \n",
       "96          1220.0                        79.0              28.0   \n",
       "97           480.0                        65.0              36.0   \n",
       "98          1230.0                        80.0              28.0   \n",
       "\n",
       "    Nitrogen (N)  Phosphorus (P)  Potassium (K)  Yeild (Q/acre)  \n",
       "0           80.0            24.0           20.0            12.0  \n",
       "1           70.0            20.0           18.0             8.0  \n",
       "2           78.0            22.0           19.0            11.0  \n",
       "3           70.0            19.0           18.0             9.0  \n",
       "4           79.0            22.0           19.0            11.0  \n",
       "..           ...             ...            ...             ...  \n",
       "94          78.0            23.0           20.0             9.0  \n",
       "95          65.0            19.0           17.0             6.5  \n",
       "96          77.0            23.0           21.0            10.5  \n",
       "97          68.0            21.0           16.0             7.0  \n",
       "98          80.0            24.0           20.0            12.0  \n",
       "\n",
       "[99 rows x 7 columns]"
      ]
     },
     "execution_count": 3,
     "metadata": {},
     "output_type": "execute_result"
    }
   ],
   "source": [
    "d = pd.read_csv(\"crop_yield.csv\")\n",
    "d"
   ]
  },
  {
   "cell_type": "markdown",
   "id": "8f2ae929-4533-41d4-acb0-60238d1a6f97",
   "metadata": {},
   "source": [
    "**PREPROCESSING**"
   ]
  },
  {
   "cell_type": "code",
   "execution_count": 4,
   "id": "5e36145c-627b-4999-82f2-6784bb381b70",
   "metadata": {},
   "outputs": [
    {
     "data": {
      "text/html": [
       "<div>\n",
       "<style scoped>\n",
       "    .dataframe tbody tr th:only-of-type {\n",
       "        vertical-align: middle;\n",
       "    }\n",
       "\n",
       "    .dataframe tbody tr th {\n",
       "        vertical-align: top;\n",
       "    }\n",
       "\n",
       "    .dataframe thead th {\n",
       "        text-align: right;\n",
       "    }\n",
       "</style>\n",
       "<table border=\"1\" class=\"dataframe\">\n",
       "  <thead>\n",
       "    <tr style=\"text-align: right;\">\n",
       "      <th></th>\n",
       "      <th>Rain Fall (mm)</th>\n",
       "      <th>Fertilizer(urea) (kg/acre)</th>\n",
       "      <th>Temperature (°C)</th>\n",
       "      <th>Nitrogen (N)</th>\n",
       "      <th>Phosphorus (P)</th>\n",
       "    </tr>\n",
       "  </thead>\n",
       "  <tbody>\n",
       "    <tr>\n",
       "      <th>0</th>\n",
       "      <td>1230.0</td>\n",
       "      <td>80.0</td>\n",
       "      <td>28.0</td>\n",
       "      <td>80.0</td>\n",
       "      <td>24.0</td>\n",
       "    </tr>\n",
       "    <tr>\n",
       "      <th>1</th>\n",
       "      <td>480.0</td>\n",
       "      <td>60.0</td>\n",
       "      <td>36.0</td>\n",
       "      <td>70.0</td>\n",
       "      <td>20.0</td>\n",
       "    </tr>\n",
       "    <tr>\n",
       "      <th>2</th>\n",
       "      <td>1250.0</td>\n",
       "      <td>75.0</td>\n",
       "      <td>29.0</td>\n",
       "      <td>78.0</td>\n",
       "      <td>22.0</td>\n",
       "    </tr>\n",
       "    <tr>\n",
       "      <th>3</th>\n",
       "      <td>450.0</td>\n",
       "      <td>65.0</td>\n",
       "      <td>35.0</td>\n",
       "      <td>70.0</td>\n",
       "      <td>19.0</td>\n",
       "    </tr>\n",
       "    <tr>\n",
       "      <th>4</th>\n",
       "      <td>1200.0</td>\n",
       "      <td>80.0</td>\n",
       "      <td>27.0</td>\n",
       "      <td>79.0</td>\n",
       "      <td>22.0</td>\n",
       "    </tr>\n",
       "    <tr>\n",
       "      <th>...</th>\n",
       "      <td>...</td>\n",
       "      <td>...</td>\n",
       "      <td>...</td>\n",
       "      <td>...</td>\n",
       "      <td>...</td>\n",
       "    </tr>\n",
       "    <tr>\n",
       "      <th>94</th>\n",
       "      <td>1250.0</td>\n",
       "      <td>77.0</td>\n",
       "      <td>28.0</td>\n",
       "      <td>78.0</td>\n",
       "      <td>23.0</td>\n",
       "    </tr>\n",
       "    <tr>\n",
       "      <th>95</th>\n",
       "      <td>425.0</td>\n",
       "      <td>60.0</td>\n",
       "      <td>39.0</td>\n",
       "      <td>65.0</td>\n",
       "      <td>19.0</td>\n",
       "    </tr>\n",
       "    <tr>\n",
       "      <th>96</th>\n",
       "      <td>1220.0</td>\n",
       "      <td>79.0</td>\n",
       "      <td>28.0</td>\n",
       "      <td>77.0</td>\n",
       "      <td>23.0</td>\n",
       "    </tr>\n",
       "    <tr>\n",
       "      <th>97</th>\n",
       "      <td>480.0</td>\n",
       "      <td>65.0</td>\n",
       "      <td>36.0</td>\n",
       "      <td>68.0</td>\n",
       "      <td>21.0</td>\n",
       "    </tr>\n",
       "    <tr>\n",
       "      <th>98</th>\n",
       "      <td>1230.0</td>\n",
       "      <td>80.0</td>\n",
       "      <td>28.0</td>\n",
       "      <td>80.0</td>\n",
       "      <td>24.0</td>\n",
       "    </tr>\n",
       "  </tbody>\n",
       "</table>\n",
       "<p>99 rows × 5 columns</p>\n",
       "</div>"
      ],
      "text/plain": [
       "    Rain Fall (mm)  Fertilizer(urea) (kg/acre)  Temperature (°C)  \\\n",
       "0           1230.0                        80.0              28.0   \n",
       "1            480.0                        60.0              36.0   \n",
       "2           1250.0                        75.0              29.0   \n",
       "3            450.0                        65.0              35.0   \n",
       "4           1200.0                        80.0              27.0   \n",
       "..             ...                         ...               ...   \n",
       "94          1250.0                        77.0              28.0   \n",
       "95           425.0                        60.0              39.0   \n",
       "96          1220.0                        79.0              28.0   \n",
       "97           480.0                        65.0              36.0   \n",
       "98          1230.0                        80.0              28.0   \n",
       "\n",
       "    Nitrogen (N)  Phosphorus (P)  \n",
       "0           80.0            24.0  \n",
       "1           70.0            20.0  \n",
       "2           78.0            22.0  \n",
       "3           70.0            19.0  \n",
       "4           79.0            22.0  \n",
       "..           ...             ...  \n",
       "94          78.0            23.0  \n",
       "95          65.0            19.0  \n",
       "96          77.0            23.0  \n",
       "97          68.0            21.0  \n",
       "98          80.0            24.0  \n",
       "\n",
       "[99 rows x 5 columns]"
      ]
     },
     "execution_count": 4,
     "metadata": {},
     "output_type": "execute_result"
    }
   ],
   "source": [
    "x = d.iloc[:,:5]\n",
    "x"
   ]
  },
  {
   "cell_type": "code",
   "execution_count": 5,
   "id": "784a780f-3531-440b-aa03-d8e302e9e2b8",
   "metadata": {},
   "outputs": [
    {
     "data": {
      "text/plain": [
       "0     12.0\n",
       "1      8.0\n",
       "2     11.0\n",
       "3      9.0\n",
       "4     11.0\n",
       "      ... \n",
       "94     9.0\n",
       "95     6.5\n",
       "96    10.5\n",
       "97     7.0\n",
       "98    12.0\n",
       "Name: Yeild (Q/acre), Length: 99, dtype: float64"
      ]
     },
     "execution_count": 5,
     "metadata": {},
     "output_type": "execute_result"
    }
   ],
   "source": [
    "y = d.iloc[:,6]\n",
    "y"
   ]
  },
  {
   "cell_type": "markdown",
   "id": "9b894ec3-7f05-4bc4-adeb-baea875a8402",
   "metadata": {},
   "source": [
    "**FEATURE SELECTION (FEATURE IMPORTANCE)**"
   ]
  },
  {
   "cell_type": "code",
   "execution_count": 6,
   "id": "a66cabe6-c2c8-41fa-9669-74b2c18c71fa",
   "metadata": {},
   "outputs": [],
   "source": [
    "model_fs = ExtraTreesRegressor()"
   ]
  },
  {
   "cell_type": "code",
   "execution_count": 7,
   "id": "18b5adf9-acc6-41ee-a06a-56c8e2249da9",
   "metadata": {},
   "outputs": [],
   "source": [
    "fs = model_fs.fit(x,y)"
   ]
  },
  {
   "cell_type": "code",
   "execution_count": 8,
   "id": "088e20f1-b652-4de5-ae6d-b5abbc23dd00",
   "metadata": {},
   "outputs": [
    {
     "data": {
      "text/plain": [
       "array([0.51117276, 0.05271264, 0.30520377, 0.08598342, 0.04492741])"
      ]
     },
     "execution_count": 8,
     "metadata": {},
     "output_type": "execute_result"
    }
   ],
   "source": [
    "fs.feature_importances_"
   ]
  },
  {
   "cell_type": "code",
   "execution_count": 9,
   "id": "0758d047-8538-4cb3-8662-b87722314fb0",
   "metadata": {},
   "outputs": [
    {
     "data": {
      "text/plain": [
       "<Axes: >"
      ]
     },
     "execution_count": 9,
     "metadata": {},
     "output_type": "execute_result"
    },
    {
     "data": {
      "image/png": "[encoded data removed]",
      "text/plain": [
       "<Figure size 640x480 with 1 Axes>"
      ]
     },
     "metadata": {},
     "output_type": "display_data"
    }
   ],
   "source": [
    "imp = pd.Series(fs.feature_importances_,index=x.columns)\n",
    "imp.nlargest().plot(kind=\"barh\")"
   ]
  },
  {
   "cell_type": "markdown",
   "id": "904b1ccb-0205-4091-a9ec-83b065a788c6",
   "metadata": {},
   "source": [
    "*FEATURE SCALING - NO NEED AS IT IS A TREE BASED ALGORITHM*"
   ]
  },
  {
   "cell_type": "markdown",
   "id": "31ffe816-ad5a-42db-a5cf-5e391b58b4b1",
   "metadata": {},
   "source": [
    "**SPLITTING OF DATA**"
   ]
  },
  {
   "cell_type": "code",
   "execution_count": 10,
   "id": "6e94d538-b77e-4afc-95fa-7e7d8ebe4c07",
   "metadata": {},
   "outputs": [],
   "source": [
    "x = x.to_numpy()\n",
    "y = y.to_numpy()"
   ]
  },
  {
   "cell_type": "code",
   "execution_count": 11,
   "id": "6320d389-760e-425e-8f2c-6519d568cd3a",
   "metadata": {},
   "outputs": [
    {
     "data": {
      "text/plain": [
       "array([[1230.,   80.,   28.,   80.,   24.],\n",
       "       [ 480.,   60.,   36.,   70.,   20.],\n",
       "       [1250.,   75.,   29.,   78.,   22.],\n",
       "       [ 450.,   65.,   35.,   70.,   19.],\n",
       "       [1200.,   80.,   27.,   79.,   22.],\n",
       "       [ 500.,   70.,   34.,   74.,   22.],\n",
       "       [1275.,   71.,   28.,   77.,   21.],\n",
       "       [ 425.,   65.,   37.,   67.,   18.],\n",
       "       [1200.,   77.,   27.,   78.,   23.],\n",
       "       [ 400.,   50.,   39.,   60.,   18.],\n",
       "       [1280.,   80.,   26.,   80.,   24.],\n",
       "       [ 415.,   55.,   38.,   65.,   19.],\n",
       "       [1225.,   79.,   29.,   79.,   23.],\n",
       "       [ 425.,   50.,   37.,   65.,   18.],\n",
       "       [1250.,   70.,   24.,   70.,   22.],\n",
       "       [ 400.,   60.,   39.,   60.,   18.],\n",
       "       [1300.,   80.,   28.,   80.,   24.],\n",
       "       [ 410.,   55.,   36.,   65.,   21.],\n",
       "       [1150.,   77.,   28.,   76.,   23.],\n",
       "       [1200.,   78.,   27.,   78.,   23.],\n",
       "       [ 410.,   50.,   37.,   59.,   19.],\n",
       "       [1280.,   76.,   26.,   75.,   24.],\n",
       "       [ 425.,   55.,   38.,   65.,   19.],\n",
       "       [1225.,   73.,   29.,   73.,   23.],\n",
       "       [ 450.,   50.,   37.,   65.,   18.],\n",
       "       [1250.,   70.,   24.,   70.,   22.],\n",
       "       [ 400.,   60.,   39.,   60.,   18.],\n",
       "       [1250.,   80.,   28.,   80.,   24.],\n",
       "       [ 405.,   55.,   36.,   60.,   21.],\n",
       "       [1200.,   72.,   29.,   73.,   21.],\n",
       "       [1150.,   80.,   26.,   75.,   21.],\n",
       "       [ 475.,   55.,   39.,   61.,   18.],\n",
       "       [1275.,   76.,   26.,   75.,   24.],\n",
       "       [ 450.,   55.,   38.,   65.,   19.],\n",
       "       [1200.,   73.,   29.,   73.,   23.],\n",
       "       [ 500.,   50.,   37.,   65.,   18.],\n",
       "       [1300.,   70.,   24.,   70.,   22.],\n",
       "       [ 425.,   60.,   39.,   60.,   18.],\n",
       "       [1250.,   75.,   26.,   75.,   22.],\n",
       "       [ 440.,   58.,   37.,   66.,   22.],\n",
       "       [1275.,   78.,   28.,   77.,   23.],\n",
       "       [ 405.,   55.,   36.,   60.,   21.],\n",
       "       [1175.,   78.,   28.,   75.,   23.],\n",
       "       [ 410.,   60.,   39.,   65.,   18.],\n",
       "       [1250.,   80.,   26.,   78.,   23.],\n",
       "       [ 460.,   55.,   38.,   61.,   20.],\n",
       "       [1275.,   76.,   26.,   75.,   24.],\n",
       "       [ 445.,   60.,   38.,   68.,   22.],\n",
       "       [1220.,   77.,   29.,   75.,   22.],\n",
       "       [ 450.,   50.,   37.,   60.,   18.],\n",
       "       [1225.,   79.,   24.,   79.,   22.],\n",
       "       [ 430.,   65.,   39.,   65.,   19.],\n",
       "       [1275.,   77.,   27.,   78.,   21.],\n",
       "       [ 400.,   52.,   38.,   64.,   19.],\n",
       "       [1245.,   78.,   27.,   78.,   22.],\n",
       "       [ 455.,   58.,   37.,   61.,   21.],\n",
       "       [1280.,   73.,   28.,   75.,   24.],\n",
       "       [ 475.,   62.,   37.,   68.,   22.],\n",
       "       [1300.,   79.,   28.,   77.,   23.],\n",
       "       [ 425.,   55.,   36.,   65.,   19.],\n",
       "       [1175.,   77.,   25.,   75.,   22.],\n",
       "       [ 425.,   70.,   39.,   70.,   20.],\n",
       "       [1200.,   75.,   27.,   79.,   21.],\n",
       "       [ 450.,   56.,   40.,   67.,   18.],\n",
       "       [1200.,   75.,   27.,   76.,   21.],\n",
       "       [ 410.,   55.,   38.,   68.,   20.],\n",
       "       [1250.,   75.,   27.,   75.,   23.],\n",
       "       [ 475.,   60.,   37.,   63.,   20.],\n",
       "       [1225.,   75.,   29.,   77.,   23.],\n",
       "       [ 455.,   60.,   38.,   65.,   20.],\n",
       "       [1245.,   77.,   27.,   75.,   22.],\n",
       "       [ 450.,   59.,   40.,   67.,   18.],\n",
       "       [1200.,   79.,   27.,   77.,   23.],\n",
       "       [ 475.,   72.,   36.,   71.,   21.],\n",
       "       [1275.,   77.,   28.,   76.,   22.],\n",
       "       [ 475.,   58.,   39.,   68.,   19.],\n",
       "       [1300.,   80.,   28.,   80.,   24.],\n",
       "       [ 400.,   50.,   40.,   60.,   18.],\n",
       "       [1175.,   70.,   28.,   70.,   22.],\n",
       "       [ 445.,   65.,   39.,   65.,   21.],\n",
       "       [1200.,   77.,   29.,   76.,   22.],\n",
       "       [ 450.,   65.,   38.,   60.,   20.],\n",
       "       [1225.,   75.,   28.,   79.,   21.],\n",
       "       [ 450.,   65.,   39.,   70.,   20.],\n",
       "       [1300.,   76.,   28.,   77.,   22.],\n",
       "       [ 450.,   70.,   36.,   72.,   25.],\n",
       "       [1250.,   77.,   28.,   76.,   22.],\n",
       "       [ 475.,   60.,   39.,   70.,   20.],\n",
       "       [1200.,   75.,   28.,   77.,   23.],\n",
       "       [ 410.,   52.,   40.,   62.,   19.],\n",
       "       [1225.,   75.,   28.,   75.,   23.],\n",
       "       [ 460.,   60.,   39.,   60.,   20.],\n",
       "       [1150.,   78.,   29.,   77.,   21.],\n",
       "       [ 475.,   65.,   38.,   60.,   20.],\n",
       "       [1250.,   77.,   28.,   78.,   23.],\n",
       "       [ 425.,   60.,   39.,   65.,   19.],\n",
       "       [1220.,   79.,   28.,   77.,   23.],\n",
       "       [ 480.,   65.,   36.,   68.,   21.],\n",
       "       [1230.,   80.,   28.,   80.,   24.]])"
      ]
     },
     "execution_count": 11,
     "metadata": {},
     "output_type": "execute_result"
    }
   ],
   "source": [
    "x"
   ]
  },
  {
   "cell_type": "code",
   "execution_count": 12,
   "id": "73a132c2-9c8d-47ef-8596-d9953555df86",
   "metadata": {},
   "outputs": [
    {
     "data": {
      "text/plain": [
       "array([12. ,  8. , 11. ,  9. , 11. , 10. , 11. ,  7. , 12. ,  6. , 12. ,\n",
       "        8. , 11. ,  9. , 11. ,  5.5, 12. ,  7. , 11. , 12. ,  6. , 11. ,\n",
       "        7. , 10. ,  9. , 10. ,  6. , 12. ,  7. , 10. , 11. ,  6. , 11. ,\n",
       "        7. , 10. ,  9. , 10. ,  6. , 12. ,  8. , 11. ,  7. , 11. ,  6. ,\n",
       "       11. ,  7. , 11. ,  8. , 10. ,  6. , 11. ,  6. , 11. ,  6.5, 10. ,\n",
       "        7.5, 11. ,  9. , 10. ,  7. , 11. ,  6.5, 11. ,  7. , 11. ,  7. ,\n",
       "       11. ,  7. , 10. ,  8.5,  9.5,  7.5, 10.5,  7. , 10. ,  7.5, 12. ,\n",
       "        6. , 10. ,  7.5,  9.5,  8. ,  9.5,  8.5,  9. ,  8. , 10. ,  8. ,\n",
       "       11. ,  6.5, 11. ,  7. ,  9. ,  8. ,  9. ,  6.5, 10.5,  7. , 12. ])"
      ]
     },
     "execution_count": 12,
     "metadata": {},
     "output_type": "execute_result"
    }
   ],
   "source": [
    "y"
   ]
  },
  {
   "cell_type": "code",
   "execution_count": 13,
   "id": "6769ee44-2f18-45c0-933a-7915e6639819",
   "metadata": {},
   "outputs": [],
   "source": [
    "x_train, x_test, y_train, y_test = train_test_split(x,y, test_size=0.2, random_state=42)"
   ]
  },
  {
   "cell_type": "code",
   "execution_count": 14,
   "id": "5c2be439-33fd-460c-b03b-46367fca1520",
   "metadata": {},
   "outputs": [
    {
     "data": {
      "text/plain": [
       "array([[ 450.,   50.,   37.,   60.,   18.],\n",
       "       [1245.,   77.,   27.,   75.,   22.],\n",
       "       [1225.,   75.,   29.,   77.,   23.],\n",
       "       [ 400.,   60.,   39.,   60.,   18.],\n",
       "       [ 440.,   58.,   37.,   66.,   22.],\n",
       "       [ 450.,   55.,   38.,   65.,   19.],\n",
       "       [ 400.,   50.,   39.,   60.,   18.],\n",
       "       [ 450.,   65.,   38.,   60.,   20.],\n",
       "       [ 415.,   55.,   38.,   65.,   19.],\n",
       "       [ 410.,   55.,   38.,   68.,   20.],\n",
       "       [1250.,   77.,   28.,   78.,   23.],\n",
       "       [1150.,   80.,   26.,   75.,   21.],\n",
       "       [ 405.,   55.,   36.,   60.,   21.],\n",
       "       [ 410.,   52.,   40.,   62.,   19.],\n",
       "       [ 500.,   70.,   34.,   74.,   22.],\n",
       "       [ 460.,   55.,   38.,   61.,   20.],\n",
       "       [ 455.,   60.,   38.,   65.,   20.],\n",
       "       [ 500.,   50.,   37.,   65.,   18.],\n",
       "       [1300.,   80.,   28.,   80.,   24.],\n",
       "       [1200.,   79.,   27.,   77.,   23.],\n",
       "       [1200.,   73.,   29.,   73.,   23.],\n",
       "       [ 425.,   65.,   37.,   67.,   18.],\n",
       "       [ 455.,   58.,   37.,   61.,   21.],\n",
       "       [1250.,   80.,   28.,   80.,   24.],\n",
       "       [1200.,   78.,   27.,   78.,   23.],\n",
       "       [1200.,   77.,   29.,   76.,   22.],\n",
       "       [1250.,   70.,   24.,   70.,   22.],\n",
       "       [ 400.,   52.,   38.,   64.,   19.],\n",
       "       [ 425.,   50.,   37.,   65.,   18.],\n",
       "       [ 450.,   50.,   37.,   65.,   18.],\n",
       "       [ 450.,   65.,   35.,   70.,   19.],\n",
       "       [ 410.,   55.,   36.,   65.,   21.],\n",
       "       [1250.,   75.,   26.,   75.,   22.],\n",
       "       [1200.,   77.,   27.,   78.,   23.],\n",
       "       [ 400.,   50.,   40.,   60.,   18.],\n",
       "       [1275.,   71.,   28.,   77.,   21.],\n",
       "       [ 445.,   65.,   39.,   65.,   21.],\n",
       "       [1300.,   70.,   24.,   70.,   22.],\n",
       "       [ 460.,   60.,   39.,   60.,   20.],\n",
       "       [1280.,   73.,   28.,   75.,   24.],\n",
       "       [1230.,   80.,   28.,   80.,   24.],\n",
       "       [1245.,   78.,   27.,   78.,   22.],\n",
       "       [ 410.,   60.,   39.,   65.,   18.],\n",
       "       [1225.,   79.,   24.,   79.,   22.],\n",
       "       [1250.,   75.,   27.,   75.,   23.],\n",
       "       [1275.,   76.,   26.,   75.,   24.],\n",
       "       [ 475.,   60.,   37.,   63.,   20.],\n",
       "       [ 425.,   70.,   39.,   70.,   20.],\n",
       "       [1220.,   79.,   28.,   77.,   23.],\n",
       "       [1175.,   70.,   28.,   70.,   22.],\n",
       "       [ 405.,   55.,   36.,   60.,   21.],\n",
       "       [1300.,   79.,   28.,   77.,   23.],\n",
       "       [1220.,   77.,   29.,   75.,   22.],\n",
       "       [ 450.,   70.,   36.,   72.,   25.],\n",
       "       [ 475.,   62.,   37.,   68.,   22.],\n",
       "       [ 475.,   58.,   39.,   68.,   19.],\n",
       "       [1275.,   76.,   26.,   75.,   24.],\n",
       "       [ 475.,   65.,   38.,   60.,   20.],\n",
       "       [ 425.,   55.,   36.,   65.,   19.],\n",
       "       [ 450.,   56.,   40.,   67.,   18.],\n",
       "       [ 450.,   65.,   39.,   70.,   20.],\n",
       "       [ 425.,   60.,   39.,   60.,   18.],\n",
       "       [1200.,   72.,   29.,   73.,   21.],\n",
       "       [ 480.,   60.,   36.,   70.,   20.],\n",
       "       [1275.,   77.,   27.,   78.,   21.],\n",
       "       [1280.,   76.,   26.,   75.,   24.],\n",
       "       [1250.,   75.,   29.,   78.,   22.],\n",
       "       [1225.,   73.,   29.,   73.,   23.],\n",
       "       [ 475.,   60.,   39.,   70.,   20.],\n",
       "       [1225.,   75.,   28.,   75.,   23.],\n",
       "       [1275.,   77.,   28.,   76.,   22.],\n",
       "       [1250.,   77.,   28.,   76.,   22.],\n",
       "       [1225.,   75.,   28.,   79.,   21.],\n",
       "       [ 410.,   50.,   37.,   59.,   19.],\n",
       "       [1175.,   77.,   25.,   75.,   22.],\n",
       "       [ 450.,   59.,   40.,   67.,   18.],\n",
       "       [1250.,   70.,   24.,   70.,   22.],\n",
       "       [1150.,   78.,   29.,   77.,   21.],\n",
       "       [ 430.,   65.,   39.,   65.,   19.]])"
      ]
     },
     "execution_count": 14,
     "metadata": {},
     "output_type": "execute_result"
    }
   ],
   "source": [
    "x_train"
   ]
  },
  {
   "cell_type": "code",
   "execution_count": 15,
   "id": "b4f72714-6f77-4bc3-9b40-358e25bdf8d4",
   "metadata": {},
   "outputs": [
    {
     "data": {
      "text/plain": [
       "array([[1200.,   75.,   27.,   79.,   21.],\n",
       "       [1275.,   78.,   28.,   77.,   23.],\n",
       "       [ 425.,   60.,   39.,   65.,   19.],\n",
       "       [1150.,   77.,   28.,   76.,   23.],\n",
       "       [ 480.,   65.,   36.,   68.,   21.],\n",
       "       [1300.,   76.,   28.,   77.,   22.],\n",
       "       [1200.,   75.,   27.,   76.,   21.],\n",
       "       [1175.,   78.,   28.,   75.,   23.],\n",
       "       [1280.,   80.,   26.,   80.,   24.],\n",
       "       [1230.,   80.,   28.,   80.,   24.],\n",
       "       [ 475.,   55.,   39.,   61.,   18.],\n",
       "       [1300.,   80.,   28.,   80.,   24.],\n",
       "       [ 445.,   60.,   38.,   68.,   22.],\n",
       "       [ 400.,   60.,   39.,   60.,   18.],\n",
       "       [1250.,   80.,   26.,   78.,   23.],\n",
       "       [1200.,   80.,   27.,   79.,   22.],\n",
       "       [ 425.,   55.,   38.,   65.,   19.],\n",
       "       [1225.,   79.,   29.,   79.,   23.],\n",
       "       [1200.,   75.,   28.,   77.,   23.],\n",
       "       [ 475.,   72.,   36.,   71.,   21.]])"
      ]
     },
     "execution_count": 15,
     "metadata": {},
     "output_type": "execute_result"
    }
   ],
   "source": [
    "x_test"
   ]
  },
  {
   "cell_type": "code",
   "execution_count": 16,
   "id": "8ddd2ab9-16f1-4fca-82f5-9e6f7aaca7b7",
   "metadata": {},
   "outputs": [
    {
     "data": {
      "text/plain": [
       "array([ 6. ,  9.5, 10. ,  5.5,  8. ,  7. ,  6. ,  8. ,  8. ,  7. ,  9. ,\n",
       "       11. ,  7. ,  6.5, 10. ,  7. ,  8.5,  9. , 12. , 10.5, 10. ,  7. ,\n",
       "        7.5, 12. , 12. ,  9.5, 10. ,  6.5,  9. ,  9. ,  9. ,  7. , 12. ,\n",
       "       12. ,  6. , 11. ,  7.5, 10. ,  7. , 11. , 12. , 10. ,  6. , 11. ,\n",
       "       11. , 11. ,  7. ,  6.5, 10.5, 10. ,  7. , 10. , 10. ,  8. ,  9. ,\n",
       "        7.5, 11. ,  8. ,  7. ,  7. ,  8.5,  6. , 10. ,  8. , 11. , 11. ,\n",
       "       11. , 10. ,  8. , 11. , 10. , 10. ,  9.5,  6. , 11. ,  7.5, 11. ,\n",
       "        9. ,  6. ])"
      ]
     },
     "execution_count": 16,
     "metadata": {},
     "output_type": "execute_result"
    }
   ],
   "source": [
    "y_train"
   ]
  },
  {
   "cell_type": "code",
   "execution_count": 17,
   "id": "030ea243-6123-4248-84f5-166012d475f6",
   "metadata": {},
   "outputs": [
    {
     "data": {
      "text/plain": [
       "array([11. , 11. ,  6.5, 11. ,  7. ,  9. , 11. , 11. , 12. , 12. ,  6. ,\n",
       "       12. ,  8. ,  6. , 11. , 11. ,  7. , 11. , 11. ,  7. ])"
      ]
     },
     "execution_count": 17,
     "metadata": {},
     "output_type": "execute_result"
    }
   ],
   "source": [
    "y_test"
   ]
  },
  {
   "cell_type": "markdown",
   "id": "204963d1-1723-4126-925a-50e158496b32",
   "metadata": {},
   "source": [
    "**CHOOSING THE MODEL**"
   ]
  },
  {
   "cell_type": "code",
   "execution_count": 18,
   "id": "c24f24e7-773d-4faa-9f02-d6e09d55c192",
   "metadata": {},
   "outputs": [],
   "source": [
    "regressor = RandomForestRegressor()"
   ]
  },
  {
   "cell_type": "markdown",
   "id": "b37e5faa-0374-4d6d-a724-8f9b21753e26",
   "metadata": {},
   "source": [
    "**HYPER PARAMETER TUNING**"
   ]
  },
  {
   "cell_type": "code",
   "execution_count": 360,
   "id": "c8921986-776d-4113-af95-78c424a69d75",
   "metadata": {},
   "outputs": [],
   "source": [
    "max_depth = [int(i) for i in np.linspace(1,200,50)]"
   ]
  },
  {
   "cell_type": "code",
   "execution_count": 361,
   "id": "71fefbfe-e049-4a05-8e5a-9d644fdd100f",
   "metadata": {},
   "outputs": [],
   "source": [
    "criterion = [\"squared_error\", \"absolute_error\", \"friedman_mse\", \"poisson\"]"
   ]
  },
  {
   "cell_type": "code",
   "execution_count": 362,
   "id": "4cd4b02d-9b51-47e7-b1df-fec64086c3d6",
   "metadata": {},
   "outputs": [],
   "source": [
    "min_samples_split = [float(i) for i in np.linspace(0,1,75)]"
   ]
  },
  {
   "cell_type": "code",
   "execution_count": 363,
   "id": "510a3028-8ec9-40cb-83e4-0cc9bf5fe0e7",
   "metadata": {},
   "outputs": [],
   "source": [
    "min_samples_leaf = [float(i) for i in np.linspace(0,1,75)]"
   ]
  },
  {
   "cell_type": "code",
   "execution_count": 364,
   "id": "7dd1f6ca-f5e4-4d4a-b4de-ca39c96734db",
   "metadata": {},
   "outputs": [],
   "source": [
    "max_features = [\"sqrt\",\"log2\",None]"
   ]
  },
  {
   "cell_type": "code",
   "execution_count": 365,
   "id": "7c75d27d-d99b-4cca-8844-a9da58d426cf",
   "metadata": {},
   "outputs": [],
   "source": [
    "bootstrap = [True,False]"
   ]
  },
  {
   "cell_type": "code",
   "execution_count": 366,
   "id": "369afc0b-abe6-499e-b0ef-a59dcbb29209",
   "metadata": {},
   "outputs": [
    {
     "data": {
      "text/plain": [
       "{'n_estimators': [0,\n",
       "  4,\n",
       "  8,\n",
       "  12,\n",
       "  16,\n",
       "  20,\n",
       "  24,\n",
       "  28,\n",
       "  32,\n",
       "  36,\n",
       "  40,\n",
       "  44,\n",
       "  48,\n",
       "  53,\n",
       "  57,\n",
       "  61,\n",
       "  65,\n",
       "  69,\n",
       "  73,\n",
       "  77,\n",
       "  81,\n",
       "  85,\n",
       "  89,\n",
       "  93,\n",
       "  97,\n",
       "  102,\n",
       "  106,\n",
       "  110,\n",
       "  114,\n",
       "  118,\n",
       "  122,\n",
       "  126,\n",
       "  130,\n",
       "  134,\n",
       "  138,\n",
       "  142,\n",
       "  146,\n",
       "  151,\n",
       "  155,\n",
       "  159,\n",
       "  163,\n",
       "  167,\n",
       "  171,\n",
       "  175,\n",
       "  179,\n",
       "  183,\n",
       "  187,\n",
       "  191,\n",
       "  195,\n",
       "  200],\n",
       " 'criterion': ['squared_error', 'absolute_error', 'friedman_mse', 'poisson'],\n",
       " 'min_samples_split': [0.0,\n",
       "  0.013513513513513514,\n",
       "  0.02702702702702703,\n",
       "  0.04054054054054054,\n",
       "  0.05405405405405406,\n",
       "  0.06756756756756757,\n",
       "  0.08108108108108109,\n",
       "  0.0945945945945946,\n",
       "  0.10810810810810811,\n",
       "  0.12162162162162163,\n",
       "  0.13513513513513514,\n",
       "  0.14864864864864866,\n",
       "  0.16216216216216217,\n",
       "  0.17567567567567569,\n",
       "  0.1891891891891892,\n",
       "  0.20270270270270271,\n",
       "  0.21621621621621623,\n",
       "  0.22972972972972974,\n",
       "  0.24324324324324326,\n",
       "  0.2567567567567568,\n",
       "  0.2702702702702703,\n",
       "  0.28378378378378377,\n",
       "  0.2972972972972973,\n",
       "  0.31081081081081086,\n",
       "  0.32432432432432434,\n",
       "  0.33783783783783783,\n",
       "  0.35135135135135137,\n",
       "  0.3648648648648649,\n",
       "  0.3783783783783784,\n",
       "  0.3918918918918919,\n",
       "  0.40540540540540543,\n",
       "  0.41891891891891897,\n",
       "  0.43243243243243246,\n",
       "  0.44594594594594594,\n",
       "  0.4594594594594595,\n",
       "  0.472972972972973,\n",
       "  0.4864864864864865,\n",
       "  0.5,\n",
       "  0.5135135135135136,\n",
       "  0.5270270270270271,\n",
       "  0.5405405405405406,\n",
       "  0.5540540540540541,\n",
       "  0.5675675675675675,\n",
       "  0.5810810810810811,\n",
       "  0.5945945945945946,\n",
       "  0.6081081081081081,\n",
       "  0.6216216216216217,\n",
       "  0.6351351351351352,\n",
       "  0.6486486486486487,\n",
       "  0.6621621621621622,\n",
       "  0.6756756756756757,\n",
       "  0.6891891891891893,\n",
       "  0.7027027027027027,\n",
       "  0.7162162162162162,\n",
       "  0.7297297297297298,\n",
       "  0.7432432432432433,\n",
       "  0.7567567567567568,\n",
       "  0.7702702702702703,\n",
       "  0.7837837837837838,\n",
       "  0.7972972972972974,\n",
       "  0.8108108108108109,\n",
       "  0.8243243243243243,\n",
       "  0.8378378378378379,\n",
       "  0.8513513513513514,\n",
       "  0.8648648648648649,\n",
       "  0.8783783783783784,\n",
       "  0.8918918918918919,\n",
       "  0.9054054054054055,\n",
       "  0.918918918918919,\n",
       "  0.9324324324324325,\n",
       "  0.945945945945946,\n",
       "  0.9594594594594595,\n",
       "  0.972972972972973,\n",
       "  0.9864864864864865,\n",
       "  1.0],\n",
       " 'min_samples_leaf': [0.0,\n",
       "  0.013513513513513514,\n",
       "  0.02702702702702703,\n",
       "  0.04054054054054054,\n",
       "  0.05405405405405406,\n",
       "  0.06756756756756757,\n",
       "  0.08108108108108109,\n",
       "  0.0945945945945946,\n",
       "  0.10810810810810811,\n",
       "  0.12162162162162163,\n",
       "  0.13513513513513514,\n",
       "  0.14864864864864866,\n",
       "  0.16216216216216217,\n",
       "  0.17567567567567569,\n",
       "  0.1891891891891892,\n",
       "  0.20270270270270271,\n",
       "  0.21621621621621623,\n",
       "  0.22972972972972974,\n",
       "  0.24324324324324326,\n",
       "  0.2567567567567568,\n",
       "  0.2702702702702703,\n",
       "  0.28378378378378377,\n",
       "  0.2972972972972973,\n",
       "  0.31081081081081086,\n",
       "  0.32432432432432434,\n",
       "  0.33783783783783783,\n",
       "  0.35135135135135137,\n",
       "  0.3648648648648649,\n",
       "  0.3783783783783784,\n",
       "  0.3918918918918919,\n",
       "  0.40540540540540543,\n",
       "  0.41891891891891897,\n",
       "  0.43243243243243246,\n",
       "  0.44594594594594594,\n",
       "  0.4594594594594595,\n",
       "  0.472972972972973,\n",
       "  0.4864864864864865,\n",
       "  0.5,\n",
       "  0.5135135135135136,\n",
       "  0.5270270270270271,\n",
       "  0.5405405405405406,\n",
       "  0.5540540540540541,\n",
       "  0.5675675675675675,\n",
       "  0.5810810810810811,\n",
       "  0.5945945945945946,\n",
       "  0.6081081081081081,\n",
       "  0.6216216216216217,\n",
       "  0.6351351351351352,\n",
       "  0.6486486486486487,\n",
       "  0.6621621621621622,\n",
       "  0.6756756756756757,\n",
       "  0.6891891891891893,\n",
       "  0.7027027027027027,\n",
       "  0.7162162162162162,\n",
       "  0.7297297297297298,\n",
       "  0.7432432432432433,\n",
       "  0.7567567567567568,\n",
       "  0.7702702702702703,\n",
       "  0.7837837837837838,\n",
       "  0.7972972972972974,\n",
       "  0.8108108108108109,\n",
       "  0.8243243243243243,\n",
       "  0.8378378378378379,\n",
       "  0.8513513513513514,\n",
       "  0.8648648648648649,\n",
       "  0.8783783783783784,\n",
       "  0.8918918918918919,\n",
       "  0.9054054054054055,\n",
       "  0.918918918918919,\n",
       "  0.9324324324324325,\n",
       "  0.945945945945946,\n",
       "  0.9594594594594595,\n",
       "  0.972972972972973,\n",
       "  0.9864864864864865,\n",
       "  1.0],\n",
       " 'max_features': ['sqrt', 'log2', None],\n",
       " 'bootstrap': [True, False]}"
      ]
     },
     "execution_count": 366,
     "metadata": {},
     "output_type": "execute_result"
    }
   ],
   "source": [
    "random_grid = {\"n_estimators\":n_estimators,\n",
    "               \"criterion\":criterion,\n",
    "              \"min_samples_split\":min_samples_split,\n",
    "              \"min_samples_leaf\":min_samples_leaf,\n",
    "              \"max_features\":max_features,\n",
    "              \"bootstrap\":bootstrap}\n",
    "random_grid"
   ]
  },
  {
   "cell_type": "code",
   "execution_count": 367,
   "id": "ca9f46d5-c538-48ce-9347-f578236e8500",
   "metadata": {},
   "outputs": [],
   "source": [
    "model = RandomizedSearchCV(estimator = regressor,\n",
    "                          param_distributions = random_grid,\n",
    "                          scoring = \"neg_mean_squared_error\",\n",
    "                          cv = 5,\n",
    "                          verbose = 2,\n",
    "                          random_state = 44,\n",
    "                          n_jobs = 1)"
   ]
  },
  {
   "cell_type": "markdown",
   "id": "33e219b5-550b-4e63-8efc-b2f7e9b84c4e",
   "metadata": {},
   "source": [
    "**MAKING THE MODEL**"
   ]
  },
  {
   "cell_type": "code",
   "execution_count": 368,
   "id": "a64042c2-e463-4504-960a-d9837d6440f0",
   "metadata": {},
   "outputs": [
    {
     "name": "stdout",
     "output_type": "stream",
     "text": [
      "Fitting 5 folds for each of 10 candidates, totalling 50 fits\n",
      "[CV] END bootstrap=False, criterion=squared_error, max_features=log2, min_samples_leaf=0.0945945945945946, min_samples_split=0.43243243243243246, n_estimators=65; total time=   0.0s\n",
      "[CV] END bootstrap=False, criterion=squared_error, max_features=log2, min_samples_leaf=0.0945945945945946, min_samples_split=0.43243243243243246, n_estimators=65; total time=   0.0s\n",
      "[CV] END bootstrap=False, criterion=squared_error, max_features=log2, min_samples_leaf=0.0945945945945946, min_samples_split=0.43243243243243246, n_estimators=65; total time=   0.0s\n",
      "[CV] END bootstrap=False, criterion=squared_error, max_features=log2, min_samples_leaf=0.0945945945945946, min_samples_split=0.43243243243243246, n_estimators=65; total time=   0.0s\n",
      "[CV] END bootstrap=False, criterion=squared_error, max_features=log2, min_samples_leaf=0.0945945945945946, min_samples_split=0.43243243243243246, n_estimators=65; total time=   0.0s\n",
      "[CV] END bootstrap=False, criterion=squared_error, max_features=log2, min_samples_leaf=0.7702702702702703, min_samples_split=0.02702702702702703, n_estimators=61; total time=   0.0s\n",
      "[CV] END bootstrap=False, criterion=squared_error, max_features=log2, min_samples_leaf=0.7702702702702703, min_samples_split=0.02702702702702703, n_estimators=61; total time=   0.0s\n",
      "[CV] END bootstrap=False, criterion=squared_error, max_features=log2, min_samples_leaf=0.7702702702702703, min_samples_split=0.02702702702702703, n_estimators=61; total time=   0.0s\n",
      "[CV] END bootstrap=False, criterion=squared_error, max_features=log2, min_samples_leaf=0.7702702702702703, min_samples_split=0.02702702702702703, n_estimators=61; total time=   0.0s\n",
      "[CV] END bootstrap=False, criterion=squared_error, max_features=log2, min_samples_leaf=0.7702702702702703, min_samples_split=0.02702702702702703, n_estimators=61; total time=   0.0s\n",
      "[CV] END bootstrap=False, criterion=friedman_mse, max_features=log2, min_samples_leaf=0.5540540540540541, min_samples_split=0.5675675675675675, n_estimators=134; total time=   0.0s\n",
      "[CV] END bootstrap=False, criterion=friedman_mse, max_features=log2, min_samples_leaf=0.5540540540540541, min_samples_split=0.5675675675675675, n_estimators=134; total time=   0.0s\n",
      "[CV] END bootstrap=False, criterion=friedman_mse, max_features=log2, min_samples_leaf=0.5540540540540541, min_samples_split=0.5675675675675675, n_estimators=134; total time=   0.0s\n",
      "[CV] END bootstrap=False, criterion=friedman_mse, max_features=log2, min_samples_leaf=0.5540540540540541, min_samples_split=0.5675675675675675, n_estimators=134; total time=   0.0s\n",
      "[CV] END bootstrap=False, criterion=friedman_mse, max_features=log2, min_samples_leaf=0.5540540540540541, min_samples_split=0.5675675675675675, n_estimators=134; total time=   0.0s\n",
      "[CV] END bootstrap=True, criterion=friedman_mse, max_features=None, min_samples_leaf=0.013513513513513514, min_samples_split=0.05405405405405406, n_estimators=191; total time=   0.3s\n",
      "[CV] END bootstrap=True, criterion=friedman_mse, max_features=None, min_samples_leaf=0.013513513513513514, min_samples_split=0.05405405405405406, n_estimators=191; total time=   0.3s\n",
      "[CV] END bootstrap=True, criterion=friedman_mse, max_features=None, min_samples_leaf=0.013513513513513514, min_samples_split=0.05405405405405406, n_estimators=191; total time=   0.2s\n",
      "[CV] END bootstrap=True, criterion=friedman_mse, max_features=None, min_samples_leaf=0.013513513513513514, min_samples_split=0.05405405405405406, n_estimators=191; total time=   0.2s\n",
      "[CV] END bootstrap=True, criterion=friedman_mse, max_features=None, min_samples_leaf=0.013513513513513514, min_samples_split=0.05405405405405406, n_estimators=191; total time=   0.2s\n",
      "[CV] END bootstrap=True, criterion=friedman_mse, max_features=log2, min_samples_leaf=0.6351351351351352, min_samples_split=0.5, n_estimators=102; total time=   0.0s\n",
      "[CV] END bootstrap=True, criterion=friedman_mse, max_features=log2, min_samples_leaf=0.6351351351351352, min_samples_split=0.5, n_estimators=102; total time=   0.0s\n",
      "[CV] END bootstrap=True, criterion=friedman_mse, max_features=log2, min_samples_leaf=0.6351351351351352, min_samples_split=0.5, n_estimators=102; total time=   0.0s\n",
      "[CV] END bootstrap=True, criterion=friedman_mse, max_features=log2, min_samples_leaf=0.6351351351351352, min_samples_split=0.5, n_estimators=102; total time=   0.0s\n",
      "[CV] END bootstrap=True, criterion=friedman_mse, max_features=log2, min_samples_leaf=0.6351351351351352, min_samples_split=0.5, n_estimators=102; total time=   0.0s\n",
      "[CV] END bootstrap=False, criterion=squared_error, max_features=log2, min_samples_leaf=0.7027027027027027, min_samples_split=0.7972972972972974, n_estimators=44; total time=   0.0s\n",
      "[CV] END bootstrap=False, criterion=squared_error, max_features=log2, min_samples_leaf=0.7027027027027027, min_samples_split=0.7972972972972974, n_estimators=44; total time=   0.0s\n",
      "[CV] END bootstrap=False, criterion=squared_error, max_features=log2, min_samples_leaf=0.7027027027027027, min_samples_split=0.7972972972972974, n_estimators=44; total time=   0.0s\n",
      "[CV] END bootstrap=False, criterion=squared_error, max_features=log2, min_samples_leaf=0.7027027027027027, min_samples_split=0.7972972972972974, n_estimators=44; total time=   0.0s\n",
      "[CV] END bootstrap=False, criterion=squared_error, max_features=log2, min_samples_leaf=0.7027027027027027, min_samples_split=0.7972972972972974, n_estimators=44; total time=   0.0s\n",
      "[CV] END bootstrap=False, criterion=absolute_error, max_features=None, min_samples_leaf=0.1891891891891892, min_samples_split=0.44594594594594594, n_estimators=97; total time=   0.0s\n",
      "[CV] END bootstrap=False, criterion=absolute_error, max_features=None, min_samples_leaf=0.1891891891891892, min_samples_split=0.44594594594594594, n_estimators=97; total time=   0.0s\n",
      "[CV] END bootstrap=False, criterion=absolute_error, max_features=None, min_samples_leaf=0.1891891891891892, min_samples_split=0.44594594594594594, n_estimators=97; total time=   0.0s\n",
      "[CV] END bootstrap=False, criterion=absolute_error, max_features=None, min_samples_leaf=0.1891891891891892, min_samples_split=0.44594594594594594, n_estimators=97; total time=   0.0s\n",
      "[CV] END bootstrap=False, criterion=absolute_error, max_features=None, min_samples_leaf=0.1891891891891892, min_samples_split=0.44594594594594594, n_estimators=97; total time=   0.0s\n",
      "[CV] END bootstrap=False, criterion=squared_error, max_features=sqrt, min_samples_leaf=0.5945945945945946, min_samples_split=0.8378378378378379, n_estimators=97; total time=   0.0s\n",
      "[CV] END bootstrap=False, criterion=squared_error, max_features=sqrt, min_samples_leaf=0.5945945945945946, min_samples_split=0.8378378378378379, n_estimators=97; total time=   0.0s\n",
      "[CV] END bootstrap=False, criterion=squared_error, max_features=sqrt, min_samples_leaf=0.5945945945945946, min_samples_split=0.8378378378378379, n_estimators=97; total time=   0.0s\n",
      "[CV] END bootstrap=False, criterion=squared_error, max_features=sqrt, min_samples_leaf=0.5945945945945946, min_samples_split=0.8378378378378379, n_estimators=97; total time=   0.0s\n",
      "[CV] END bootstrap=False, criterion=squared_error, max_features=sqrt, min_samples_leaf=0.5945945945945946, min_samples_split=0.8378378378378379, n_estimators=97; total time=   0.0s\n",
      "[CV] END bootstrap=False, criterion=poisson, max_features=log2, min_samples_leaf=0.20270270270270271, min_samples_split=0.3648648648648649, n_estimators=12; total time=   0.0s\n",
      "[CV] END bootstrap=False, criterion=poisson, max_features=log2, min_samples_leaf=0.20270270270270271, min_samples_split=0.3648648648648649, n_estimators=12; total time=   0.0s\n",
      "[CV] END bootstrap=False, criterion=poisson, max_features=log2, min_samples_leaf=0.20270270270270271, min_samples_split=0.3648648648648649, n_estimators=12; total time=   0.0s\n",
      "[CV] END bootstrap=False, criterion=poisson, max_features=log2, min_samples_leaf=0.20270270270270271, min_samples_split=0.3648648648648649, n_estimators=12; total time=   0.0s\n",
      "[CV] END bootstrap=False, criterion=poisson, max_features=log2, min_samples_leaf=0.20270270270270271, min_samples_split=0.3648648648648649, n_estimators=12; total time=   0.0s\n",
      "[CV] END bootstrap=False, criterion=absolute_error, max_features=log2, min_samples_leaf=0.9324324324324325, min_samples_split=0.24324324324324326, n_estimators=89; total time=   0.0s\n",
      "[CV] END bootstrap=False, criterion=absolute_error, max_features=log2, min_samples_leaf=0.9324324324324325, min_samples_split=0.24324324324324326, n_estimators=89; total time=   0.0s\n",
      "[CV] END bootstrap=False, criterion=absolute_error, max_features=log2, min_samples_leaf=0.9324324324324325, min_samples_split=0.24324324324324326, n_estimators=89; total time=   0.0s\n",
      "[CV] END bootstrap=False, criterion=absolute_error, max_features=log2, min_samples_leaf=0.9324324324324325, min_samples_split=0.24324324324324326, n_estimators=89; total time=   0.0s\n",
      "[CV] END bootstrap=False, criterion=absolute_error, max_features=log2, min_samples_leaf=0.9324324324324325, min_samples_split=0.24324324324324326, n_estimators=89; total time=   0.0s\n"
     ]
    },
    {
     "data": {
      "text/html": [
       "<style>#sk-container-id-14 {color: black;}#sk-container-id-14 pre{padding: 0;}#sk-container-id-14 div.sk-toggleable {background-color: white;}#sk-container-id-14 label.sk-toggleable__label {cursor: pointer;display: block;width: 100%;margin-bottom: 0;padding: 0.3em;box-sizing: border-box;text-align: center;}#sk-container-id-14 label.sk-toggleable__label-arrow:before {content: \"▸\";float: left;margin-right: 0.25em;color: #696969;}#sk-container-id-14 label.sk-toggleable__label-arrow:hover:before {color: black;}#sk-container-id-14 div.sk-estimator:hover label.sk-toggleable__label-arrow:before {color: black;}#sk-container-id-14 div.sk-toggleable__content {max-height: 0;max-width: 0;overflow: hidden;text-align: left;background-color: #f0f8ff;}#sk-container-id-14 div.sk-toggleable__content pre {margin: 0.2em;color: black;border-radius: 0.25em;background-color: #f0f8ff;}#sk-container-id-14 input.sk-toggleable__control:checked~div.sk-toggleable__content {max-height: 200px;max-width: 100%;overflow: auto;}#sk-container-id-14 input.sk-toggleable__control:checked~label.sk-toggleable__label-arrow:before {content: \"▾\";}#sk-container-id-14 div.sk-estimator input.sk-toggleable__control:checked~label.sk-toggleable__label {background-color: #d4ebff;}#sk-container-id-14 div.sk-label input.sk-toggleable__control:checked~label.sk-toggleable__label {background-color: #d4ebff;}#sk-container-id-14 input.sk-hidden--visually {border: 0;clip: rect(1px 1px 1px 1px);clip: rect(1px, 1px, 1px, 1px);height: 1px;margin: -1px;overflow: hidden;padding: 0;position: absolute;width: 1px;}#sk-container-id-14 div.sk-estimator {font-family: monospace;background-color: #f0f8ff;border: 1px dotted black;border-radius: 0.25em;box-sizing: border-box;margin-bottom: 0.5em;}#sk-container-id-14 div.sk-estimator:hover {background-color: #d4ebff;}#sk-container-id-14 div.sk-parallel-item::after {content: \"\";width: 100%;border-bottom: 1px solid gray;flex-grow: 1;}#sk-container-id-14 div.sk-label:hover label.sk-toggleable__label {background-color: #d4ebff;}#sk-container-id-14 div.sk-serial::before {content: \"\";position: absolute;border-left: 1px solid gray;box-sizing: border-box;top: 0;bottom: 0;left: 50%;z-index: 0;}#sk-container-id-14 div.sk-serial {display: flex;flex-direction: column;align-items: center;background-color: white;padding-right: 0.2em;padding-left: 0.2em;position: relative;}#sk-container-id-14 div.sk-item {position: relative;z-index: 1;}#sk-container-id-14 div.sk-parallel {display: flex;align-items: stretch;justify-content: center;background-color: white;position: relative;}#sk-container-id-14 div.sk-item::before, #sk-container-id-14 div.sk-parallel-item::before {content: \"\";position: absolute;border-left: 1px solid gray;box-sizing: border-box;top: 0;bottom: 0;left: 50%;z-index: -1;}#sk-container-id-14 div.sk-parallel-item {display: flex;flex-direction: column;z-index: 1;position: relative;background-color: white;}#sk-container-id-14 div.sk-parallel-item:first-child::after {align-self: flex-end;width: 50%;}#sk-container-id-14 div.sk-parallel-item:last-child::after {align-self: flex-start;width: 50%;}#sk-container-id-14 div.sk-parallel-item:only-child::after {width: 0;}#sk-container-id-14 div.sk-dashed-wrapped {border: 1px dashed gray;margin: 0 0.4em 0.5em 0.4em;box-sizing: border-box;padding-bottom: 0.4em;background-color: white;}#sk-container-id-14 div.sk-label label {font-family: monospace;font-weight: bold;display: inline-block;line-height: 1.2em;}#sk-container-id-14 div.sk-label-container {text-align: center;}#sk-container-id-14 div.sk-container {/* jupyter's `normalize.less` sets `[hidden] { display: none; }` but bootstrap.min.css set `[hidden] { display: none !important; }` so we also need the `!important` here to be able to override the default hidden behavior on the sphinx rendered scikit-learn.org. See: https://github.com/scikit-learn/scikit-learn/issues/21755 */display: inline-block !important;position: relative;}#sk-container-id-14 div.sk-text-repr-fallback {display: none;}</style><div id=\"sk-container-id-14\" class=\"sk-top-container\"><div class=\"sk-text-repr-fallback\"><pre>RandomizedSearchCV(cv=5, estimator=RandomForestRegressor(), n_jobs=1,\n",
       "                   param_distributions={&#x27;bootstrap&#x27;: [True, False],\n",
       "                                        &#x27;criterion&#x27;: [&#x27;squared_error&#x27;,\n",
       "                                                      &#x27;absolute_error&#x27;,\n",
       "                                                      &#x27;friedman_mse&#x27;,\n",
       "                                                      &#x27;poisson&#x27;],\n",
       "                                        &#x27;max_features&#x27;: [&#x27;sqrt&#x27;, &#x27;log2&#x27;, None],\n",
       "                                        &#x27;min_samples_leaf&#x27;: [0.0,\n",
       "                                                             0.013513513513513514,\n",
       "                                                             0.02702702702702703,\n",
       "                                                             0.04054054054054054,\n",
       "                                                             0.05405405405405406,\n",
       "                                                             0.06756756756756757,\n",
       "                                                             0.08...\n",
       "                                                              0.28378378378378377,\n",
       "                                                              0.2972972972972973,\n",
       "                                                              0.31081081081081086,\n",
       "                                                              0.32432432432432434,\n",
       "                                                              0.33783783783783783,\n",
       "                                                              0.35135135135135137,\n",
       "                                                              0.3648648648648649,\n",
       "                                                              0.3783783783783784,\n",
       "                                                              0.3918918918918919, ...],\n",
       "                                        &#x27;n_estimators&#x27;: [0, 4, 8, 12, 16, 20,\n",
       "                                                         24, 28, 32, 36, 40, 44,\n",
       "                                                         48, 53, 57, 61, 65, 69,\n",
       "                                                         73, 77, 81, 85, 89, 93,\n",
       "                                                         97, 102, 106, 110, 114,\n",
       "                                                         118, ...]},\n",
       "                   random_state=44, scoring=&#x27;neg_mean_squared_error&#x27;,\n",
       "                   verbose=2)</pre><b>In a Jupyter environment, please rerun this cell to show the HTML representation or trust the notebook. <br />On GitHub, the HTML representation is unable to render, please try loading this page with nbviewer.org.</b></div><div class=\"sk-container\" hidden><div class=\"sk-item sk-dashed-wrapped\"><div class=\"sk-label-container\"><div class=\"sk-label sk-toggleable\"><input class=\"sk-toggleable__control sk-hidden--visually\" id=\"sk-estimator-id-40\" type=\"checkbox\" ><label for=\"sk-estimator-id-40\" class=\"sk-toggleable__label sk-toggleable__label-arrow\">RandomizedSearchCV</label><div class=\"sk-toggleable__content\"><pre>RandomizedSearchCV(cv=5, estimator=RandomForestRegressor(), n_jobs=1,\n",
       "                   param_distributions={&#x27;bootstrap&#x27;: [True, False],\n",
       "                                        &#x27;criterion&#x27;: [&#x27;squared_error&#x27;,\n",
       "                                                      &#x27;absolute_error&#x27;,\n",
       "                                                      &#x27;friedman_mse&#x27;,\n",
       "                                                      &#x27;poisson&#x27;],\n",
       "                                        &#x27;max_features&#x27;: [&#x27;sqrt&#x27;, &#x27;log2&#x27;, None],\n",
       "                                        &#x27;min_samples_leaf&#x27;: [0.0,\n",
       "                                                             0.013513513513513514,\n",
       "                                                             0.02702702702702703,\n",
       "                                                             0.04054054054054054,\n",
       "                                                             0.05405405405405406,\n",
       "                                                             0.06756756756756757,\n",
       "                                                             0.08...\n",
       "                                                              0.28378378378378377,\n",
       "                                                              0.2972972972972973,\n",
       "                                                              0.31081081081081086,\n",
       "                                                              0.32432432432432434,\n",
       "                                                              0.33783783783783783,\n",
       "                                                              0.35135135135135137,\n",
       "                                                              0.3648648648648649,\n",
       "                                                              0.3783783783783784,\n",
       "                                                              0.3918918918918919, ...],\n",
       "                                        &#x27;n_estimators&#x27;: [0, 4, 8, 12, 16, 20,\n",
       "                                                         24, 28, 32, 36, 40, 44,\n",
       "                                                         48, 53, 57, 61, 65, 69,\n",
       "                                                         73, 77, 81, 85, 89, 93,\n",
       "                                                         97, 102, 106, 110, 114,\n",
       "                                                         118, ...]},\n",
       "                   random_state=44, scoring=&#x27;neg_mean_squared_error&#x27;,\n",
       "                   verbose=2)</pre></div></div></div><div class=\"sk-parallel\"><div class=\"sk-parallel-item\"><div class=\"sk-item\"><div class=\"sk-label-container\"><div class=\"sk-label sk-toggleable\"><input class=\"sk-toggleable__control sk-hidden--visually\" id=\"sk-estimator-id-41\" type=\"checkbox\" ><label for=\"sk-estimator-id-41\" class=\"sk-toggleable__label sk-toggleable__label-arrow\">estimator: RandomForestRegressor</label><div class=\"sk-toggleable__content\"><pre>RandomForestRegressor()</pre></div></div></div><div class=\"sk-serial\"><div class=\"sk-item\"><div class=\"sk-estimator sk-toggleable\"><input class=\"sk-toggleable__control sk-hidden--visually\" id=\"sk-estimator-id-42\" type=\"checkbox\" ><label for=\"sk-estimator-id-42\" class=\"sk-toggleable__label sk-toggleable__label-arrow\">RandomForestRegressor</label><div class=\"sk-toggleable__content\"><pre>RandomForestRegressor()</pre></div></div></div></div></div></div></div></div></div></div>"
      ],
      "text/plain": [
       "RandomizedSearchCV(cv=5, estimator=RandomForestRegressor(), n_jobs=1,\n",
       "                   param_distributions={'bootstrap': [True, False],\n",
       "                                        'criterion': ['squared_error',\n",
       "                                                      'absolute_error',\n",
       "                                                      'friedman_mse',\n",
       "                                                      'poisson'],\n",
       "                                        'max_features': ['sqrt', 'log2', None],\n",
       "                                        'min_samples_leaf': [0.0,\n",
       "                                                             0.013513513513513514,\n",
       "                                                             0.02702702702702703,\n",
       "                                                             0.04054054054054054,\n",
       "                                                             0.05405405405405406,\n",
       "                                                             0.06756756756756757,\n",
       "                                                             0.08...\n",
       "                                                              0.28378378378378377,\n",
       "                                                              0.2972972972972973,\n",
       "                                                              0.31081081081081086,\n",
       "                                                              0.32432432432432434,\n",
       "                                                              0.33783783783783783,\n",
       "                                                              0.35135135135135137,\n",
       "                                                              0.3648648648648649,\n",
       "                                                              0.3783783783783784,\n",
       "                                                              0.3918918918918919, ...],\n",
       "                                        'n_estimators': [0, 4, 8, 12, 16, 20,\n",
       "                                                         24, 28, 32, 36, 40, 44,\n",
       "                                                         48, 53, 57, 61, 65, 69,\n",
       "                                                         73, 77, 81, 85, 89, 93,\n",
       "                                                         97, 102, 106, 110, 114,\n",
       "                                                         118, ...]},\n",
       "                   random_state=44, scoring='neg_mean_squared_error',\n",
       "                   verbose=2)"
      ]
     },
     "execution_count": 368,
     "metadata": {},
     "output_type": "execute_result"
    }
   ],
   "source": [
    "model.fit(x_train,y_train)"
   ]
  },
  {
   "cell_type": "code",
   "execution_count": 369,
   "id": "f37f7000-5d5f-46ce-9f7f-e1fbed1fdb3e",
   "metadata": {},
   "outputs": [
    {
     "data": {
      "text/plain": [
       "{'n_estimators': 191,\n",
       " 'min_samples_split': 0.05405405405405406,\n",
       " 'min_samples_leaf': 0.013513513513513514,\n",
       " 'max_features': None,\n",
       " 'criterion': 'friedman_mse',\n",
       " 'bootstrap': True}"
      ]
     },
     "execution_count": 369,
     "metadata": {},
     "output_type": "execute_result"
    }
   ],
   "source": [
    "model.best_params_"
   ]
  },
  {
   "cell_type": "markdown",
   "id": "3c17af29-1117-4747-b4ff-433d9fe903d8",
   "metadata": {},
   "source": [
    "**TESTING THE MODEL**"
   ]
  },
  {
   "cell_type": "code",
   "execution_count": 370,
   "id": "36ade7de-2769-49f2-80ed-95197eb587da",
   "metadata": {},
   "outputs": [
    {
     "data": {
      "text/plain": [
       "array([11. , 11. ,  6.5, 11. ,  7. ,  9. , 11. , 11. , 12. , 12. ,  6. ,\n",
       "       12. ,  8. ,  6. , 11. , 11. ,  7. , 11. , 11. ,  7. ])"
      ]
     },
     "execution_count": 370,
     "metadata": {},
     "output_type": "execute_result"
    }
   ],
   "source": [
    "y_test"
   ]
  },
  {
   "cell_type": "code",
   "execution_count": 371,
   "id": "69732904-fd18-41bb-8b24-2270ab62b4d1",
   "metadata": {},
   "outputs": [
    {
     "data": {
      "text/plain": [
       "array([10.97138494, 10.23311726,  6.60497552, 10.13779191,  8.185658  ,\n",
       "       10.53687775, 10.70276531, 10.36748733, 11.66577641, 11.69644208,\n",
       "        6.97594466, 11.70121021,  7.96063619,  5.96902977, 11.14255504,\n",
       "       11.10688108,  7.31034636, 10.24577412, 10.53410205,  8.29622289])"
      ]
     },
     "execution_count": 371,
     "metadata": {},
     "output_type": "execute_result"
    }
   ],
   "source": [
    "y_pred = model.predict(x_test)\n",
    "y_pred"
   ]
  },
  {
   "cell_type": "code",
   "execution_count": 372,
   "id": "54893c90-f5d9-4b6a-a5b2-c8141f6c70a7",
   "metadata": {},
   "outputs": [
    {
     "data": {
      "text/html": [
       "<div>\n",
       "<style scoped>\n",
       "    .dataframe tbody tr th:only-of-type {\n",
       "        vertical-align: middle;\n",
       "    }\n",
       "\n",
       "    .dataframe tbody tr th {\n",
       "        vertical-align: top;\n",
       "    }\n",
       "\n",
       "    .dataframe thead th {\n",
       "        text-align: right;\n",
       "    }\n",
       "</style>\n",
       "<table border=\"1\" class=\"dataframe\">\n",
       "  <thead>\n",
       "    <tr style=\"text-align: right;\">\n",
       "      <th></th>\n",
       "      <th>Actual value</th>\n",
       "      <th>Predicted value</th>\n",
       "    </tr>\n",
       "  </thead>\n",
       "  <tbody>\n",
       "    <tr>\n",
       "      <th>0</th>\n",
       "      <td>11.0</td>\n",
       "      <td>10.971385</td>\n",
       "    </tr>\n",
       "    <tr>\n",
       "      <th>1</th>\n",
       "      <td>11.0</td>\n",
       "      <td>10.233117</td>\n",
       "    </tr>\n",
       "    <tr>\n",
       "      <th>2</th>\n",
       "      <td>6.5</td>\n",
       "      <td>6.604976</td>\n",
       "    </tr>\n",
       "    <tr>\n",
       "      <th>3</th>\n",
       "      <td>11.0</td>\n",
       "      <td>10.137792</td>\n",
       "    </tr>\n",
       "    <tr>\n",
       "      <th>4</th>\n",
       "      <td>7.0</td>\n",
       "      <td>8.185658</td>\n",
       "    </tr>\n",
       "    <tr>\n",
       "      <th>5</th>\n",
       "      <td>9.0</td>\n",
       "      <td>10.536878</td>\n",
       "    </tr>\n",
       "    <tr>\n",
       "      <th>6</th>\n",
       "      <td>11.0</td>\n",
       "      <td>10.702765</td>\n",
       "    </tr>\n",
       "    <tr>\n",
       "      <th>7</th>\n",
       "      <td>11.0</td>\n",
       "      <td>10.367487</td>\n",
       "    </tr>\n",
       "    <tr>\n",
       "      <th>8</th>\n",
       "      <td>12.0</td>\n",
       "      <td>11.665776</td>\n",
       "    </tr>\n",
       "    <tr>\n",
       "      <th>9</th>\n",
       "      <td>12.0</td>\n",
       "      <td>11.696442</td>\n",
       "    </tr>\n",
       "    <tr>\n",
       "      <th>10</th>\n",
       "      <td>6.0</td>\n",
       "      <td>6.975945</td>\n",
       "    </tr>\n",
       "    <tr>\n",
       "      <th>11</th>\n",
       "      <td>12.0</td>\n",
       "      <td>11.701210</td>\n",
       "    </tr>\n",
       "    <tr>\n",
       "      <th>12</th>\n",
       "      <td>8.0</td>\n",
       "      <td>7.960636</td>\n",
       "    </tr>\n",
       "    <tr>\n",
       "      <th>13</th>\n",
       "      <td>6.0</td>\n",
       "      <td>5.969030</td>\n",
       "    </tr>\n",
       "    <tr>\n",
       "      <th>14</th>\n",
       "      <td>11.0</td>\n",
       "      <td>11.142555</td>\n",
       "    </tr>\n",
       "    <tr>\n",
       "      <th>15</th>\n",
       "      <td>11.0</td>\n",
       "      <td>11.106881</td>\n",
       "    </tr>\n",
       "    <tr>\n",
       "      <th>16</th>\n",
       "      <td>7.0</td>\n",
       "      <td>7.310346</td>\n",
       "    </tr>\n",
       "    <tr>\n",
       "      <th>17</th>\n",
       "      <td>11.0</td>\n",
       "      <td>10.245774</td>\n",
       "    </tr>\n",
       "    <tr>\n",
       "      <th>18</th>\n",
       "      <td>11.0</td>\n",
       "      <td>10.534102</td>\n",
       "    </tr>\n",
       "    <tr>\n",
       "      <th>19</th>\n",
       "      <td>7.0</td>\n",
       "      <td>8.296223</td>\n",
       "    </tr>\n",
       "  </tbody>\n",
       "</table>\n",
       "</div>"
      ],
      "text/plain": [
       "    Actual value  Predicted value\n",
       "0           11.0        10.971385\n",
       "1           11.0        10.233117\n",
       "2            6.5         6.604976\n",
       "3           11.0        10.137792\n",
       "4            7.0         8.185658\n",
       "5            9.0        10.536878\n",
       "6           11.0        10.702765\n",
       "7           11.0        10.367487\n",
       "8           12.0        11.665776\n",
       "9           12.0        11.696442\n",
       "10           6.0         6.975945\n",
       "11          12.0        11.701210\n",
       "12           8.0         7.960636\n",
       "13           6.0         5.969030\n",
       "14          11.0        11.142555\n",
       "15          11.0        11.106881\n",
       "16           7.0         7.310346\n",
       "17          11.0        10.245774\n",
       "18          11.0        10.534102\n",
       "19           7.0         8.296223"
      ]
     },
     "execution_count": 372,
     "metadata": {},
     "output_type": "execute_result"
    }
   ],
   "source": [
    "df = pd.DataFrame({\"Actual value\":y_test,\"Predicted value\":y_pred})\n",
    "df"
   ]
  },
  {
   "cell_type": "code",
   "execution_count": 373,
   "id": "0ff31835-337f-42d9-8e67-dc23d2fe0858",
   "metadata": {},
   "outputs": [
    {
     "data": {
      "text/plain": [
       "<Axes: title={'center': 'Feature-correlation (pearson)'}>"
      ]
     },
     "execution_count": 373,
     "metadata": {},
     "output_type": "execute_result"
    },
    {
     "data": {
      "image/png": "[encoded data removed]",
      "text/plain": [
       "<Figure size 1200x1000 with 2 Axes>"
      ]
     },
     "metadata": {},
     "output_type": "display_data"
    }
   ],
   "source": [
    "klib.corr_plot(df)"
   ]
  },
  {
   "cell_type": "code",
   "execution_count": 374,
   "id": "0419352a-a864-4449-82a7-d5749bcef43b",
   "metadata": {},
   "outputs": [
    {
     "data": {
      "text/plain": [
       "<Axes: >"
      ]
     },
     "execution_count": 374,
     "metadata": {},
     "output_type": "execute_result"
    },
    {
     "data": {
      "image/png": "[encoded data removed]",
      "text/plain": [
       "<Figure size 640x480 with 1 Axes>"
      ]
     },
     "metadata": {},
     "output_type": "display_data"
    }
   ],
   "source": [
    "df.plot()"
   ]
  },
  {
   "cell_type": "markdown",
   "id": "6667b98f-3791-4fca-a7b3-646d06cd18ee",
   "metadata": {},
   "source": [
    "**PERFORMANCE METRICS**"
   ]
  },
  {
   "cell_type": "code",
   "execution_count": 375,
   "id": "49eaa901-71b2-4148-93c2-972928d9d55c",
   "metadata": {},
   "outputs": [
    {
     "data": {
      "text/plain": [
       "0.47209129943554684"
      ]
     },
     "execution_count": 375,
     "metadata": {},
     "output_type": "execute_result"
    }
   ],
   "source": [
    "mean_squared_error(y_test,y_pred)"
   ]
  },
  {
   "cell_type": "code",
   "execution_count": 376,
   "id": "373565e9-52ce-458c-b3e3-7f8eb343fcfd",
   "metadata": {},
   "outputs": [
    {
     "data": {
      "text/plain": [
       "0.5236971859583122"
      ]
     },
     "execution_count": 376,
     "metadata": {},
     "output_type": "execute_result"
    }
   ],
   "source": [
    "mean_absolute_error(y_test,y_pred)"
   ]
  },
  {
   "cell_type": "code",
   "execution_count": 377,
   "id": "b88c5f47-5dcb-4d96-acf1-edba0fe5b960",
   "metadata": {},
   "outputs": [
    {
     "data": {
      "text/plain": [
       "-0.47209129943554684"
      ]
     },
     "execution_count": 377,
     "metadata": {},
     "output_type": "execute_result"
    }
   ],
   "source": [
    "model.score(x_test,y_test)"
   ]
  },
  {
   "cell_type": "code",
   "execution_count": 378,
   "id": "e2fc7cb8-7be9-4978-af13-5473f830e1a6",
   "metadata": {},
   "outputs": [
    {
     "data": {
      "text/plain": [
       "0.8991661888804066"
      ]
     },
     "execution_count": 378,
     "metadata": {},
     "output_type": "execute_result"
    }
   ],
   "source": [
    "r2_score(y_test,y_pred)"
   ]
  },
  {
   "cell_type": "code",
   "execution_count": null,
   "id": "3c0ac518-79a8-43f3-94b0-6b4b2f05e024",
   "metadata": {},
   "outputs": [],
   "source": []
  }
 ],
 "metadata": {
  "kernelspec": {
   "display_name": "Python 3 (ipykernel)",
   "language": "python",
   "name": "python3"
  },
  "language_info": {
   "codemirror_mode": {
    "name": "ipython",
    "version": 3
   },
   "file_extension": ".py",
   "mimetype": "text/x-python",
   "name": "python",
   "nbconvert_exporter": "python",
   "pygments_lexer": "ipython3",
   "version": "3.11.0"
  }
 },
 "nbformat": 4,
 "nbformat_minor": 5
}
